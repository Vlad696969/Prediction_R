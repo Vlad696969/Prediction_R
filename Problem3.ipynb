{
 "cells": [
  {
   "cell_type": "markdown",
   "id": "942c6478",
   "metadata": {},
   "source": [
    "# Dataset"
   ]
  },
  {
   "cell_type": "code",
   "execution_count": 3,
   "id": "02b4261f",
   "metadata": {},
   "outputs": [],
   "source": [
    "train_test_new <- read.csv(\"train-test-new.csv\")"
   ]
  },
  {
   "cell_type": "code",
   "execution_count": 4,
   "id": "4c97eded",
   "metadata": {},
   "outputs": [
    {
     "data": {
      "text/html": [
       "<table>\n",
       "<thead><tr><th scope=col>age</th><th scope=col>job</th><th scope=col>marital</th><th scope=col>education</th><th scope=col>default</th><th scope=col>housing</th><th scope=col>loan</th><th scope=col>contact</th><th scope=col>month</th><th scope=col>day_of_week</th><th scope=col>campaign</th><th scope=col>pdays</th><th scope=col>previous</th><th scope=col>poutcome</th><th scope=col>emp.var.rate</th><th scope=col>cons.price.idx</th><th scope=col>cons.conf.idx</th><th scope=col>euribor3m</th><th scope=col>nr.employed</th><th scope=col>y</th></tr></thead>\n",
       "<tbody>\n",
       "\t<tr><td>56               </td><td>self-employed    </td><td>married          </td><td>university.degree</td><td>no               </td><td>yes              </td><td>no               </td><td>cellular         </td><td>nov              </td><td>wed              </td><td>1                </td><td>999              </td><td>0                </td><td>nonexistent      </td><td>-0.1             </td><td>93.200           </td><td>-42.0            </td><td>4.120            </td><td>5195.8           </td><td>no               </td></tr>\n",
       "\t<tr><td>57               </td><td>management       </td><td>married          </td><td>university.degree</td><td>no               </td><td>no               </td><td>no               </td><td>cellular         </td><td>jul              </td><td>tue              </td><td>1                </td><td>999              </td><td>0                </td><td>nonexistent      </td><td> 1.4             </td><td>93.918           </td><td>-42.7            </td><td>4.961            </td><td>5228.1           </td><td>no               </td></tr>\n",
       "\t<tr><td>36               </td><td>admin.           </td><td>married          </td><td>university.degree</td><td>no               </td><td>yes              </td><td>no               </td><td>telephone        </td><td>may              </td><td>fri              </td><td>2                </td><td>999              </td><td>0                </td><td>nonexistent      </td><td> 1.1             </td><td>93.994           </td><td>-36.4            </td><td>4.859            </td><td>5191.0           </td><td>no               </td></tr>\n",
       "\t<tr><td>45               </td><td>management       </td><td>married          </td><td>high.school      </td><td>unknown          </td><td>no               </td><td>no               </td><td>cellular         </td><td>aug              </td><td>wed              </td><td>2                </td><td>999              </td><td>0                </td><td>nonexistent      </td><td> 1.4             </td><td>93.444           </td><td>-36.1            </td><td>4.964            </td><td>5228.1           </td><td>no               </td></tr>\n",
       "\t<tr><td>39               </td><td>admin.           </td><td>single           </td><td>university.degree</td><td>no               </td><td>yes              </td><td>no               </td><td>cellular         </td><td>jul              </td><td>wed              </td><td>1                </td><td>999              </td><td>0                </td><td>nonexistent      </td><td> 1.4             </td><td>93.918           </td><td>-42.7            </td><td>4.963            </td><td>5228.1           </td><td>no               </td></tr>\n",
       "\t<tr><td>33               </td><td>services         </td><td>married          </td><td>high.school      </td><td>no               </td><td>no               </td><td>yes              </td><td>telephone        </td><td>may              </td><td>fri              </td><td>2                </td><td>999              </td><td>0                </td><td>nonexistent      </td><td> 1.1             </td><td>93.994           </td><td>-36.4            </td><td>4.859            </td><td>5191.0           </td><td>no               </td></tr>\n",
       "</tbody>\n",
       "</table>\n"
      ],
      "text/latex": [
       "\\begin{tabular}{r|llllllllllllllllllll}\n",
       " age & job & marital & education & default & housing & loan & contact & month & day\\_of\\_week & campaign & pdays & previous & poutcome & emp.var.rate & cons.price.idx & cons.conf.idx & euribor3m & nr.employed & y\\\\\n",
       "\\hline\n",
       "\t 56                & self-employed     & married           & university.degree & no                & yes               & no                & cellular          & nov               & wed               & 1                 & 999               & 0                 & nonexistent       & -0.1              & 93.200            & -42.0             & 4.120             & 5195.8            & no               \\\\\n",
       "\t 57                & management        & married           & university.degree & no                & no                & no                & cellular          & jul               & tue               & 1                 & 999               & 0                 & nonexistent       &  1.4              & 93.918            & -42.7             & 4.961             & 5228.1            & no               \\\\\n",
       "\t 36                & admin.            & married           & university.degree & no                & yes               & no                & telephone         & may               & fri               & 2                 & 999               & 0                 & nonexistent       &  1.1              & 93.994            & -36.4             & 4.859             & 5191.0            & no               \\\\\n",
       "\t 45                & management        & married           & high.school       & unknown           & no                & no                & cellular          & aug               & wed               & 2                 & 999               & 0                 & nonexistent       &  1.4              & 93.444            & -36.1             & 4.964             & 5228.1            & no               \\\\\n",
       "\t 39                & admin.            & single            & university.degree & no                & yes               & no                & cellular          & jul               & wed               & 1                 & 999               & 0                 & nonexistent       &  1.4              & 93.918            & -42.7             & 4.963             & 5228.1            & no               \\\\\n",
       "\t 33                & services          & married           & high.school       & no                & no                & yes               & telephone         & may               & fri               & 2                 & 999               & 0                 & nonexistent       &  1.1              & 93.994            & -36.4             & 4.859             & 5191.0            & no               \\\\\n",
       "\\end{tabular}\n"
      ],
      "text/markdown": [
       "\n",
       "| age | job | marital | education | default | housing | loan | contact | month | day_of_week | campaign | pdays | previous | poutcome | emp.var.rate | cons.price.idx | cons.conf.idx | euribor3m | nr.employed | y |\n",
       "|---|---|---|---|---|---|---|---|---|---|---|---|---|---|---|---|---|---|---|---|\n",
       "| 56                | self-employed     | married           | university.degree | no                | yes               | no                | cellular          | nov               | wed               | 1                 | 999               | 0                 | nonexistent       | -0.1              | 93.200            | -42.0             | 4.120             | 5195.8            | no                |\n",
       "| 57                | management        | married           | university.degree | no                | no                | no                | cellular          | jul               | tue               | 1                 | 999               | 0                 | nonexistent       |  1.4              | 93.918            | -42.7             | 4.961             | 5228.1            | no                |\n",
       "| 36                | admin.            | married           | university.degree | no                | yes               | no                | telephone         | may               | fri               | 2                 | 999               | 0                 | nonexistent       |  1.1              | 93.994            | -36.4             | 4.859             | 5191.0            | no                |\n",
       "| 45                | management        | married           | high.school       | unknown           | no                | no                | cellular          | aug               | wed               | 2                 | 999               | 0                 | nonexistent       |  1.4              | 93.444            | -36.1             | 4.964             | 5228.1            | no                |\n",
       "| 39                | admin.            | single            | university.degree | no                | yes               | no                | cellular          | jul               | wed               | 1                 | 999               | 0                 | nonexistent       |  1.4              | 93.918            | -42.7             | 4.963             | 5228.1            | no                |\n",
       "| 33                | services          | married           | high.school       | no                | no                | yes               | telephone         | may               | fri               | 2                 | 999               | 0                 | nonexistent       |  1.1              | 93.994            | -36.4             | 4.859             | 5191.0            | no                |\n",
       "\n"
      ],
      "text/plain": [
       "  age job           marital education         default housing loan contact  \n",
       "1 56  self-employed married university.degree no      yes     no   cellular \n",
       "2 57  management    married university.degree no      no      no   cellular \n",
       "3 36  admin.        married university.degree no      yes     no   telephone\n",
       "4 45  management    married high.school       unknown no      no   cellular \n",
       "5 39  admin.        single  university.degree no      yes     no   cellular \n",
       "6 33  services      married high.school       no      no      yes  telephone\n",
       "  month day_of_week campaign pdays previous poutcome    emp.var.rate\n",
       "1 nov   wed         1        999   0        nonexistent -0.1        \n",
       "2 jul   tue         1        999   0        nonexistent  1.4        \n",
       "3 may   fri         2        999   0        nonexistent  1.1        \n",
       "4 aug   wed         2        999   0        nonexistent  1.4        \n",
       "5 jul   wed         1        999   0        nonexistent  1.4        \n",
       "6 may   fri         2        999   0        nonexistent  1.1        \n",
       "  cons.price.idx cons.conf.idx euribor3m nr.employed y \n",
       "1 93.200         -42.0         4.120     5195.8      no\n",
       "2 93.918         -42.7         4.961     5228.1      no\n",
       "3 93.994         -36.4         4.859     5191.0      no\n",
       "4 93.444         -36.1         4.964     5228.1      no\n",
       "5 93.918         -42.7         4.963     5228.1      no\n",
       "6 93.994         -36.4         4.859     5191.0      no"
      ]
     },
     "metadata": {},
     "output_type": "display_data"
    }
   ],
   "source": [
    "head(train_test_new)"
   ]
  },
  {
   "cell_type": "code",
   "execution_count": 5,
   "id": "ab5cde38",
   "metadata": {},
   "outputs": [],
   "source": [
    "n <- length(train_test_new[,1])\n",
    "y.class <- rep(0,n)"
   ]
  },
  {
   "cell_type": "code",
   "execution_count": 6,
   "id": "4ecf9f18",
   "metadata": {},
   "outputs": [],
   "source": [
    "for (i in 1:n){\n",
    "    if (train_test_new[i, 20] == \"yes\"){\n",
    "        y.class[i] <- 1\n",
    "    }\n",
    "}"
   ]
  },
  {
   "cell_type": "code",
   "execution_count": 7,
   "id": "9bf76879",
   "metadata": {},
   "outputs": [
    {
     "data": {
      "text/html": [
       "<table>\n",
       "<thead><tr><th scope=col>age</th><th scope=col>job</th><th scope=col>marital</th><th scope=col>education</th><th scope=col>default</th><th scope=col>housing</th><th scope=col>loan</th><th scope=col>contact</th><th scope=col>month</th><th scope=col>day_of_week</th><th scope=col>campaign</th><th scope=col>pdays</th><th scope=col>previous</th><th scope=col>poutcome</th><th scope=col>emp.var.rate</th><th scope=col>cons.price.idx</th><th scope=col>cons.conf.idx</th><th scope=col>euribor3m</th><th scope=col>nr.employed</th><th scope=col>y.class</th></tr></thead>\n",
       "<tbody>\n",
       "\t<tr><td>56               </td><td>self-employed    </td><td>married          </td><td>university.degree</td><td>no               </td><td>yes              </td><td>no               </td><td>cellular         </td><td>nov              </td><td>wed              </td><td>1                </td><td>999              </td><td>0                </td><td>nonexistent      </td><td>-0.1             </td><td>93.200           </td><td>-42.0            </td><td>4.120            </td><td>5195.8           </td><td>0                </td></tr>\n",
       "\t<tr><td>57               </td><td>management       </td><td>married          </td><td>university.degree</td><td>no               </td><td>no               </td><td>no               </td><td>cellular         </td><td>jul              </td><td>tue              </td><td>1                </td><td>999              </td><td>0                </td><td>nonexistent      </td><td> 1.4             </td><td>93.918           </td><td>-42.7            </td><td>4.961            </td><td>5228.1           </td><td>0                </td></tr>\n",
       "\t<tr><td>36               </td><td>admin.           </td><td>married          </td><td>university.degree</td><td>no               </td><td>yes              </td><td>no               </td><td>telephone        </td><td>may              </td><td>fri              </td><td>2                </td><td>999              </td><td>0                </td><td>nonexistent      </td><td> 1.1             </td><td>93.994           </td><td>-36.4            </td><td>4.859            </td><td>5191.0           </td><td>0                </td></tr>\n",
       "\t<tr><td>45               </td><td>management       </td><td>married          </td><td>high.school      </td><td>unknown          </td><td>no               </td><td>no               </td><td>cellular         </td><td>aug              </td><td>wed              </td><td>2                </td><td>999              </td><td>0                </td><td>nonexistent      </td><td> 1.4             </td><td>93.444           </td><td>-36.1            </td><td>4.964            </td><td>5228.1           </td><td>0                </td></tr>\n",
       "\t<tr><td>39               </td><td>admin.           </td><td>single           </td><td>university.degree</td><td>no               </td><td>yes              </td><td>no               </td><td>cellular         </td><td>jul              </td><td>wed              </td><td>1                </td><td>999              </td><td>0                </td><td>nonexistent      </td><td> 1.4             </td><td>93.918           </td><td>-42.7            </td><td>4.963            </td><td>5228.1           </td><td>0                </td></tr>\n",
       "\t<tr><td>33               </td><td>services         </td><td>married          </td><td>high.school      </td><td>no               </td><td>no               </td><td>yes              </td><td>telephone        </td><td>may              </td><td>fri              </td><td>2                </td><td>999              </td><td>0                </td><td>nonexistent      </td><td> 1.1             </td><td>93.994           </td><td>-36.4            </td><td>4.859            </td><td>5191.0           </td><td>0                </td></tr>\n",
       "</tbody>\n",
       "</table>\n"
      ],
      "text/latex": [
       "\\begin{tabular}{r|llllllllllllllllllll}\n",
       " age & job & marital & education & default & housing & loan & contact & month & day\\_of\\_week & campaign & pdays & previous & poutcome & emp.var.rate & cons.price.idx & cons.conf.idx & euribor3m & nr.employed & y.class\\\\\n",
       "\\hline\n",
       "\t 56                & self-employed     & married           & university.degree & no                & yes               & no                & cellular          & nov               & wed               & 1                 & 999               & 0                 & nonexistent       & -0.1              & 93.200            & -42.0             & 4.120             & 5195.8            & 0                \\\\\n",
       "\t 57                & management        & married           & university.degree & no                & no                & no                & cellular          & jul               & tue               & 1                 & 999               & 0                 & nonexistent       &  1.4              & 93.918            & -42.7             & 4.961             & 5228.1            & 0                \\\\\n",
       "\t 36                & admin.            & married           & university.degree & no                & yes               & no                & telephone         & may               & fri               & 2                 & 999               & 0                 & nonexistent       &  1.1              & 93.994            & -36.4             & 4.859             & 5191.0            & 0                \\\\\n",
       "\t 45                & management        & married           & high.school       & unknown           & no                & no                & cellular          & aug               & wed               & 2                 & 999               & 0                 & nonexistent       &  1.4              & 93.444            & -36.1             & 4.964             & 5228.1            & 0                \\\\\n",
       "\t 39                & admin.            & single            & university.degree & no                & yes               & no                & cellular          & jul               & wed               & 1                 & 999               & 0                 & nonexistent       &  1.4              & 93.918            & -42.7             & 4.963             & 5228.1            & 0                \\\\\n",
       "\t 33                & services          & married           & high.school       & no                & no                & yes               & telephone         & may               & fri               & 2                 & 999               & 0                 & nonexistent       &  1.1              & 93.994            & -36.4             & 4.859             & 5191.0            & 0                \\\\\n",
       "\\end{tabular}\n"
      ],
      "text/markdown": [
       "\n",
       "| age | job | marital | education | default | housing | loan | contact | month | day_of_week | campaign | pdays | previous | poutcome | emp.var.rate | cons.price.idx | cons.conf.idx | euribor3m | nr.employed | y.class |\n",
       "|---|---|---|---|---|---|---|---|---|---|---|---|---|---|---|---|---|---|---|---|\n",
       "| 56                | self-employed     | married           | university.degree | no                | yes               | no                | cellular          | nov               | wed               | 1                 | 999               | 0                 | nonexistent       | -0.1              | 93.200            | -42.0             | 4.120             | 5195.8            | 0                 |\n",
       "| 57                | management        | married           | university.degree | no                | no                | no                | cellular          | jul               | tue               | 1                 | 999               | 0                 | nonexistent       |  1.4              | 93.918            | -42.7             | 4.961             | 5228.1            | 0                 |\n",
       "| 36                | admin.            | married           | university.degree | no                | yes               | no                | telephone         | may               | fri               | 2                 | 999               | 0                 | nonexistent       |  1.1              | 93.994            | -36.4             | 4.859             | 5191.0            | 0                 |\n",
       "| 45                | management        | married           | high.school       | unknown           | no                | no                | cellular          | aug               | wed               | 2                 | 999               | 0                 | nonexistent       |  1.4              | 93.444            | -36.1             | 4.964             | 5228.1            | 0                 |\n",
       "| 39                | admin.            | single            | university.degree | no                | yes               | no                | cellular          | jul               | wed               | 1                 | 999               | 0                 | nonexistent       |  1.4              | 93.918            | -42.7             | 4.963             | 5228.1            | 0                 |\n",
       "| 33                | services          | married           | high.school       | no                | no                | yes               | telephone         | may               | fri               | 2                 | 999               | 0                 | nonexistent       |  1.1              | 93.994            | -36.4             | 4.859             | 5191.0            | 0                 |\n",
       "\n"
      ],
      "text/plain": [
       "  age job           marital education         default housing loan contact  \n",
       "1 56  self-employed married university.degree no      yes     no   cellular \n",
       "2 57  management    married university.degree no      no      no   cellular \n",
       "3 36  admin.        married university.degree no      yes     no   telephone\n",
       "4 45  management    married high.school       unknown no      no   cellular \n",
       "5 39  admin.        single  university.degree no      yes     no   cellular \n",
       "6 33  services      married high.school       no      no      yes  telephone\n",
       "  month day_of_week campaign pdays previous poutcome    emp.var.rate\n",
       "1 nov   wed         1        999   0        nonexistent -0.1        \n",
       "2 jul   tue         1        999   0        nonexistent  1.4        \n",
       "3 may   fri         2        999   0        nonexistent  1.1        \n",
       "4 aug   wed         2        999   0        nonexistent  1.4        \n",
       "5 jul   wed         1        999   0        nonexistent  1.4        \n",
       "6 may   fri         2        999   0        nonexistent  1.1        \n",
       "  cons.price.idx cons.conf.idx euribor3m nr.employed y.class\n",
       "1 93.200         -42.0         4.120     5195.8      0      \n",
       "2 93.918         -42.7         4.961     5228.1      0      \n",
       "3 93.994         -36.4         4.859     5191.0      0      \n",
       "4 93.444         -36.1         4.964     5228.1      0      \n",
       "5 93.918         -42.7         4.963     5228.1      0      \n",
       "6 93.994         -36.4         4.859     5191.0      0      "
      ]
     },
     "metadata": {},
     "output_type": "display_data"
    }
   ],
   "source": [
    "train_test_all <- cbind(train_test_new[,1:19], y.class)\n",
    "head(train_test_all)"
   ]
  },
  {
   "cell_type": "code",
   "execution_count": 8,
   "id": "4761a29c",
   "metadata": {},
   "outputs": [],
   "source": [
    "train <- train_test_all[1:7500,]\n",
    "test <- train_test_all[7501:10000,]"
   ]
  },
  {
   "cell_type": "code",
   "execution_count": 8,
   "id": "ab0a901d",
   "metadata": {},
   "outputs": [
    {
     "data": {
      "text/html": [
       "<table>\n",
       "<thead><tr><th scope=col>age</th><th scope=col>job</th><th scope=col>marital</th><th scope=col>education</th><th scope=col>default</th><th scope=col>housing</th><th scope=col>loan</th><th scope=col>contact</th><th scope=col>month</th><th scope=col>day_of_week</th><th scope=col>campaign</th><th scope=col>pdays</th><th scope=col>previous</th><th scope=col>poutcome</th><th scope=col>emp.var.rate</th><th scope=col>cons.price.idx</th><th scope=col>cons.conf.idx</th><th scope=col>euribor3m</th><th scope=col>nr.employed</th><th scope=col>y.class</th></tr></thead>\n",
       "<tbody>\n",
       "\t<tr><td>56               </td><td>self-employed    </td><td>married          </td><td>university.degree</td><td>no               </td><td>yes              </td><td>no               </td><td>cellular         </td><td>nov              </td><td>wed              </td><td>1                </td><td>999              </td><td>0                </td><td>nonexistent      </td><td>-0.1             </td><td>93.200           </td><td>-42.0            </td><td>4.120            </td><td>5195.8           </td><td>0                </td></tr>\n",
       "\t<tr><td>57               </td><td>management       </td><td>married          </td><td>university.degree</td><td>no               </td><td>no               </td><td>no               </td><td>cellular         </td><td>jul              </td><td>tue              </td><td>1                </td><td>999              </td><td>0                </td><td>nonexistent      </td><td> 1.4             </td><td>93.918           </td><td>-42.7            </td><td>4.961            </td><td>5228.1           </td><td>0                </td></tr>\n",
       "\t<tr><td>36               </td><td>admin.           </td><td>married          </td><td>university.degree</td><td>no               </td><td>yes              </td><td>no               </td><td>telephone        </td><td>may              </td><td>fri              </td><td>2                </td><td>999              </td><td>0                </td><td>nonexistent      </td><td> 1.1             </td><td>93.994           </td><td>-36.4            </td><td>4.859            </td><td>5191.0           </td><td>0                </td></tr>\n",
       "\t<tr><td>45               </td><td>management       </td><td>married          </td><td>high.school      </td><td>unknown          </td><td>no               </td><td>no               </td><td>cellular         </td><td>aug              </td><td>wed              </td><td>2                </td><td>999              </td><td>0                </td><td>nonexistent      </td><td> 1.4             </td><td>93.444           </td><td>-36.1            </td><td>4.964            </td><td>5228.1           </td><td>0                </td></tr>\n",
       "\t<tr><td>39               </td><td>admin.           </td><td>single           </td><td>university.degree</td><td>no               </td><td>yes              </td><td>no               </td><td>cellular         </td><td>jul              </td><td>wed              </td><td>1                </td><td>999              </td><td>0                </td><td>nonexistent      </td><td> 1.4             </td><td>93.918           </td><td>-42.7            </td><td>4.963            </td><td>5228.1           </td><td>0                </td></tr>\n",
       "\t<tr><td>33               </td><td>services         </td><td>married          </td><td>high.school      </td><td>no               </td><td>no               </td><td>yes              </td><td>telephone        </td><td>may              </td><td>fri              </td><td>2                </td><td>999              </td><td>0                </td><td>nonexistent      </td><td> 1.1             </td><td>93.994           </td><td>-36.4            </td><td>4.859            </td><td>5191.0           </td><td>0                </td></tr>\n",
       "</tbody>\n",
       "</table>\n"
      ],
      "text/latex": [
       "\\begin{tabular}{r|llllllllllllllllllll}\n",
       " age & job & marital & education & default & housing & loan & contact & month & day\\_of\\_week & campaign & pdays & previous & poutcome & emp.var.rate & cons.price.idx & cons.conf.idx & euribor3m & nr.employed & y.class\\\\\n",
       "\\hline\n",
       "\t 56                & self-employed     & married           & university.degree & no                & yes               & no                & cellular          & nov               & wed               & 1                 & 999               & 0                 & nonexistent       & -0.1              & 93.200            & -42.0             & 4.120             & 5195.8            & 0                \\\\\n",
       "\t 57                & management        & married           & university.degree & no                & no                & no                & cellular          & jul               & tue               & 1                 & 999               & 0                 & nonexistent       &  1.4              & 93.918            & -42.7             & 4.961             & 5228.1            & 0                \\\\\n",
       "\t 36                & admin.            & married           & university.degree & no                & yes               & no                & telephone         & may               & fri               & 2                 & 999               & 0                 & nonexistent       &  1.1              & 93.994            & -36.4             & 4.859             & 5191.0            & 0                \\\\\n",
       "\t 45                & management        & married           & high.school       & unknown           & no                & no                & cellular          & aug               & wed               & 2                 & 999               & 0                 & nonexistent       &  1.4              & 93.444            & -36.1             & 4.964             & 5228.1            & 0                \\\\\n",
       "\t 39                & admin.            & single            & university.degree & no                & yes               & no                & cellular          & jul               & wed               & 1                 & 999               & 0                 & nonexistent       &  1.4              & 93.918            & -42.7             & 4.963             & 5228.1            & 0                \\\\\n",
       "\t 33                & services          & married           & high.school       & no                & no                & yes               & telephone         & may               & fri               & 2                 & 999               & 0                 & nonexistent       &  1.1              & 93.994            & -36.4             & 4.859             & 5191.0            & 0                \\\\\n",
       "\\end{tabular}\n"
      ],
      "text/markdown": [
       "\n",
       "| age | job | marital | education | default | housing | loan | contact | month | day_of_week | campaign | pdays | previous | poutcome | emp.var.rate | cons.price.idx | cons.conf.idx | euribor3m | nr.employed | y.class |\n",
       "|---|---|---|---|---|---|---|---|---|---|---|---|---|---|---|---|---|---|---|---|\n",
       "| 56                | self-employed     | married           | university.degree | no                | yes               | no                | cellular          | nov               | wed               | 1                 | 999               | 0                 | nonexistent       | -0.1              | 93.200            | -42.0             | 4.120             | 5195.8            | 0                 |\n",
       "| 57                | management        | married           | university.degree | no                | no                | no                | cellular          | jul               | tue               | 1                 | 999               | 0                 | nonexistent       |  1.4              | 93.918            | -42.7             | 4.961             | 5228.1            | 0                 |\n",
       "| 36                | admin.            | married           | university.degree | no                | yes               | no                | telephone         | may               | fri               | 2                 | 999               | 0                 | nonexistent       |  1.1              | 93.994            | -36.4             | 4.859             | 5191.0            | 0                 |\n",
       "| 45                | management        | married           | high.school       | unknown           | no                | no                | cellular          | aug               | wed               | 2                 | 999               | 0                 | nonexistent       |  1.4              | 93.444            | -36.1             | 4.964             | 5228.1            | 0                 |\n",
       "| 39                | admin.            | single            | university.degree | no                | yes               | no                | cellular          | jul               | wed               | 1                 | 999               | 0                 | nonexistent       |  1.4              | 93.918            | -42.7             | 4.963             | 5228.1            | 0                 |\n",
       "| 33                | services          | married           | high.school       | no                | no                | yes               | telephone         | may               | fri               | 2                 | 999               | 0                 | nonexistent       |  1.1              | 93.994            | -36.4             | 4.859             | 5191.0            | 0                 |\n",
       "\n"
      ],
      "text/plain": [
       "  age job           marital education         default housing loan contact  \n",
       "1 56  self-employed married university.degree no      yes     no   cellular \n",
       "2 57  management    married university.degree no      no      no   cellular \n",
       "3 36  admin.        married university.degree no      yes     no   telephone\n",
       "4 45  management    married high.school       unknown no      no   cellular \n",
       "5 39  admin.        single  university.degree no      yes     no   cellular \n",
       "6 33  services      married high.school       no      no      yes  telephone\n",
       "  month day_of_week campaign pdays previous poutcome    emp.var.rate\n",
       "1 nov   wed         1        999   0        nonexistent -0.1        \n",
       "2 jul   tue         1        999   0        nonexistent  1.4        \n",
       "3 may   fri         2        999   0        nonexistent  1.1        \n",
       "4 aug   wed         2        999   0        nonexistent  1.4        \n",
       "5 jul   wed         1        999   0        nonexistent  1.4        \n",
       "6 may   fri         2        999   0        nonexistent  1.1        \n",
       "  cons.price.idx cons.conf.idx euribor3m nr.employed y.class\n",
       "1 93.200         -42.0         4.120     5195.8      0      \n",
       "2 93.918         -42.7         4.961     5228.1      0      \n",
       "3 93.994         -36.4         4.859     5191.0      0      \n",
       "4 93.444         -36.1         4.964     5228.1      0      \n",
       "5 93.918         -42.7         4.963     5228.1      0      \n",
       "6 93.994         -36.4         4.859     5191.0      0      "
      ]
     },
     "metadata": {},
     "output_type": "display_data"
    }
   ],
   "source": [
    "head(train)"
   ]
  },
  {
   "cell_type": "markdown",
   "id": "c1b63aa2",
   "metadata": {},
   "source": [
    "# Logistic Regression"
   ]
  },
  {
   "cell_type": "code",
   "execution_count": 32,
   "id": "e8e42283",
   "metadata": {},
   "outputs": [],
   "source": [
    "result.LR1 <- glm(y.class~., data=train, family=binomial)"
   ]
  },
  {
   "cell_type": "code",
   "execution_count": 33,
   "id": "2ccc445f",
   "metadata": {},
   "outputs": [
    {
     "data": {
      "text/plain": [
       "\n",
       "Call:\n",
       "glm(formula = y.class ~ ., family = binomial, data = train)\n",
       "\n",
       "Deviance Residuals: \n",
       "    Min       1Q   Median       3Q      Max  \n",
       "-2.0651  -0.3934  -0.3185  -0.2565   2.8422  \n",
       "\n",
       "Coefficients: (1 not defined because of singularities)\n",
       "                               Estimate Std. Error z value Pr(>|z|)    \n",
       "(Intercept)                  -1.528e+02  7.968e+01  -1.917 0.055233 .  \n",
       "age                          -6.505e-03  4.932e-03  -1.319 0.187193    \n",
       "jobblue-collar                5.451e-02  1.651e-01   0.330 0.741259    \n",
       "jobentrepreneur               2.549e-01  2.384e-01   1.069 0.284883    \n",
       "jobhousemaid                  3.099e-01  2.753e-01   1.126 0.260274    \n",
       "jobmanagement                 1.883e-01  1.779e-01   1.058 0.289858    \n",
       "jobretired                    5.812e-01  2.189e-01   2.655 0.007941 ** \n",
       "jobself-employed             -3.015e-01  2.787e-01  -1.082 0.279333    \n",
       "jobservices                  -1.910e-02  1.774e-01  -0.108 0.914231    \n",
       "jobstudent                    6.572e-02  2.519e-01   0.261 0.794184    \n",
       "jobtechnician                 2.343e-01  1.478e-01   1.586 0.112804    \n",
       "jobunemployed                 4.820e-02  2.488e-01   0.194 0.846383    \n",
       "jobunknown                    7.819e-02  4.351e-01   0.180 0.857397    \n",
       "maritalmarried                1.889e-01  1.456e-01   1.298 0.194385    \n",
       "maritalsingle                 9.063e-02  1.659e-01   0.546 0.584938    \n",
       "maritalunknown                1.022e+00  7.905e-01   1.293 0.195992    \n",
       "educationbasic.6y             1.390e-01  2.396e-01   0.580 0.561666    \n",
       "educationbasic.9y            -1.087e-01  1.996e-01  -0.545 0.585914    \n",
       "educationhigh.school          1.525e-01  1.906e-01   0.800 0.423672    \n",
       "educationilliterate           1.129e+00  9.013e-01   1.252 0.210473    \n",
       "educationprofessional.course  1.169e-01  2.095e-01   0.558 0.576864    \n",
       "educationuniversity.degree    1.958e-01  1.910e-01   1.025 0.305256    \n",
       "educationunknown              2.144e-01  2.465e-01   0.870 0.384400    \n",
       "defaultunknown               -1.173e-01  1.339e-01  -0.876 0.381233    \n",
       "defaultyes                   -8.687e+00  1.970e+02  -0.044 0.964823    \n",
       "housingunknown                3.065e-01  2.581e-01   1.187 0.235070    \n",
       "housingyes                   -1.331e-01  8.560e-02  -1.554 0.120104    \n",
       "loanunknown                          NA         NA      NA       NA    \n",
       "loanyes                      -9.707e-02  1.198e-01  -0.810 0.417879    \n",
       "contacttelephone             -5.867e-01  1.610e-01  -3.644 0.000269 ***\n",
       "monthaug                     -4.684e-02  2.521e-01  -0.186 0.852566    \n",
       "monthdec                     -6.459e-02  4.416e-01  -0.146 0.883722    \n",
       "monthjul                     -6.263e-02  1.991e-01  -0.315 0.753080    \n",
       "monthjun                     -5.448e-01  2.664e-01  -2.045 0.040831 *  \n",
       "monthmar                      1.107e+00  3.038e-01   3.642 0.000270 ***\n",
       "monthmay                     -7.721e-01  1.728e-01  -4.469 7.84e-06 ***\n",
       "monthnov                     -5.144e-01  2.468e-01  -2.085 0.037112 *  \n",
       "monthoct                     -2.980e-01  3.221e-01  -0.925 0.354793    \n",
       "monthsep                     -3.669e-01  3.693e-01  -0.993 0.320477    \n",
       "day_of_weekmon               -2.617e-01  1.372e-01  -1.907 0.056508 .  \n",
       "day_of_weekthu                1.804e-01  1.290e-01   1.398 0.162139    \n",
       "day_of_weektue                7.061e-02  1.354e-01   0.521 0.602160    \n",
       "day_of_weekwed                1.307e-01  1.343e-01   0.973 0.330327    \n",
       "campaign                     -2.097e-02  2.126e-02  -0.987 0.323806    \n",
       "pdays                        -8.797e-04  4.283e-04  -2.054 0.040003 *  \n",
       "previous                      6.235e-02  1.398e-01   0.446 0.655737    \n",
       "poutcomenonexistent           6.775e-01  2.155e-01   3.143 0.001670 ** \n",
       "poutcomesuccess               1.256e+00  4.255e-01   2.951 0.003166 ** \n",
       "emp.var.rate                 -1.079e+00  2.948e-01  -3.661 0.000251 ***\n",
       "cons.price.idx                1.441e+00  5.255e-01   2.742 0.006103 ** \n",
       "cons.conf.idx                 4.066e-02  1.682e-02   2.418 0.015624 *  \n",
       "euribor3m                     8.892e-02  2.711e-01   0.328 0.742950    \n",
       "nr.employed                   3.415e-03  6.471e-03   0.528 0.597720    \n",
       "---\n",
       "Signif. codes:  0 '***' 0.001 '**' 0.01 '*' 0.05 '.' 0.1 ' ' 1\n",
       "\n",
       "(Dispersion parameter for binomial family taken to be 1)\n",
       "\n",
       "    Null deviance: 5181.0  on 7499  degrees of freedom\n",
       "Residual deviance: 4091.5  on 7448  degrees of freedom\n",
       "AIC: 4195.5\n",
       "\n",
       "Number of Fisher Scoring iterations: 10\n"
      ]
     },
     "metadata": {},
     "output_type": "display_data"
    }
   ],
   "source": [
    "summary(result.LR1)"
   ]
  },
  {
   "cell_type": "code",
   "execution_count": 34,
   "id": "4e72eb9c",
   "metadata": {},
   "outputs": [
    {
     "name": "stderr",
     "output_type": "stream",
     "text": [
      "Warning message in predict.lm(object, newdata, se.fit, scale = 1, type = if (type == :\n",
      "\"prediction from a rank-deficient fit may be misleading\""
     ]
    }
   ],
   "source": [
    "# Use the model to predict y on the test set\n",
    "result.LR2<-predict(result.LR1,newdata=test, type=\"response\")"
   ]
  },
  {
   "cell_type": "code",
   "execution_count": 14,
   "id": "6f84577b",
   "metadata": {},
   "outputs": [
    {
     "name": "stderr",
     "output_type": "stream",
     "text": [
      "also installing the dependencies 'bitops', 'gtools', 'caTools', 'gplots'\n",
      "\n"
     ]
    },
    {
     "name": "stdout",
     "output_type": "stream",
     "text": [
      "\n",
      "  There are binary versions available but the source versions are later:\n",
      "       binary source needs_compilation\n",
      "gtools  3.8.2  3.9.4              TRUE\n",
      "gplots  3.1.1  3.1.3             FALSE\n",
      "\n",
      "  Binaries will be installed\n",
      "package 'bitops' successfully unpacked and MD5 sums checked\n",
      "package 'gtools' successfully unpacked and MD5 sums checked\n",
      "package 'caTools' successfully unpacked and MD5 sums checked\n",
      "package 'ROCR' successfully unpacked and MD5 sums checked\n",
      "\n",
      "The downloaded binary packages are in\n",
      "\tC:\\Users\\vstef\\AppData\\Local\\Temp\\RtmpaUl30i\\downloaded_packages\n"
     ]
    },
    {
     "name": "stderr",
     "output_type": "stream",
     "text": [
      "installing the source package 'gplots'\n",
      "\n"
     ]
    }
   ],
   "source": [
    "install.packages(\"ROCR\")"
   ]
  },
  {
   "cell_type": "code",
   "execution_count": 35,
   "id": "ac267151",
   "metadata": {},
   "outputs": [
    {
     "data": {
      "image/png": "[encoded data removed]",
      "text/plain": [
       "Plot with title \"LR\""
      ]
     },
     "metadata": {},
     "output_type": "display_data"
    }
   ],
   "source": [
    "library(\"ROCR\")\n",
    "fit.LR.pred <-prediction( result.LR2, test[,20])\n",
    "fit.LR.perf <- performance(fit.LR.pred,\"tpr\",\"fpr\")\n",
    "plot( fit.LR.perf,lwd=2,col=\"blue\", main=\"LR\")\n",
    "abline(a=0,b=1)"
   ]
  },
  {
   "cell_type": "code",
   "execution_count": 36,
   "id": "039631e5",
   "metadata": {},
   "outputs": [
    {
     "data": {
      "text/html": [
       "0.787506048987478"
      ],
      "text/latex": [
       "0.787506048987478"
      ],
      "text/markdown": [
       "0.787506048987478"
      ],
      "text/plain": [
       "[1] 0.787506"
      ]
     },
     "metadata": {},
     "output_type": "display_data"
    }
   ],
   "source": [
    "auc.LR.tmp <- performance(fit.LR.pred, \"auc\")\n",
    "auc.LR <- as.numeric(auc.LR.tmp@y.values)\n",
    "auc.LR"
   ]
  },
  {
   "cell_type": "markdown",
   "id": "96064da4",
   "metadata": {},
   "source": [
    "# Random Forest"
   ]
  },
  {
   "cell_type": "code",
   "execution_count": 16,
   "id": "ecb781f7",
   "metadata": {},
   "outputs": [
    {
     "data": {
      "text/html": [
       "<table>\n",
       "<thead><tr><th scope=col>age</th><th scope=col>job</th><th scope=col>marital</th><th scope=col>education</th><th scope=col>default</th><th scope=col>housing</th><th scope=col>loan</th><th scope=col>contact</th><th scope=col>month</th><th scope=col>day_of_week</th><th scope=col>campaign</th><th scope=col>pdays</th><th scope=col>previous</th><th scope=col>poutcome</th><th scope=col>emp.var.rate</th><th scope=col>cons.price.idx</th><th scope=col>cons.conf.idx</th><th scope=col>euribor3m</th><th scope=col>nr.employed</th><th scope=col>y.class</th></tr></thead>\n",
       "<tbody>\n",
       "\t<tr><td>56               </td><td>self-employed    </td><td>married          </td><td>university.degree</td><td>no               </td><td>yes              </td><td>no               </td><td>cellular         </td><td>nov              </td><td>wed              </td><td>1                </td><td>999              </td><td>0                </td><td>nonexistent      </td><td>-0.1             </td><td>93.200           </td><td>-42.0            </td><td>4.120            </td><td>5195.8           </td><td>0                </td></tr>\n",
       "\t<tr><td>57               </td><td>management       </td><td>married          </td><td>university.degree</td><td>no               </td><td>no               </td><td>no               </td><td>cellular         </td><td>jul              </td><td>tue              </td><td>1                </td><td>999              </td><td>0                </td><td>nonexistent      </td><td> 1.4             </td><td>93.918           </td><td>-42.7            </td><td>4.961            </td><td>5228.1           </td><td>0                </td></tr>\n",
       "\t<tr><td>36               </td><td>admin.           </td><td>married          </td><td>university.degree</td><td>no               </td><td>yes              </td><td>no               </td><td>telephone        </td><td>may              </td><td>fri              </td><td>2                </td><td>999              </td><td>0                </td><td>nonexistent      </td><td> 1.1             </td><td>93.994           </td><td>-36.4            </td><td>4.859            </td><td>5191.0           </td><td>0                </td></tr>\n",
       "\t<tr><td>45               </td><td>management       </td><td>married          </td><td>high.school      </td><td>unknown          </td><td>no               </td><td>no               </td><td>cellular         </td><td>aug              </td><td>wed              </td><td>2                </td><td>999              </td><td>0                </td><td>nonexistent      </td><td> 1.4             </td><td>93.444           </td><td>-36.1            </td><td>4.964            </td><td>5228.1           </td><td>0                </td></tr>\n",
       "\t<tr><td>39               </td><td>admin.           </td><td>single           </td><td>university.degree</td><td>no               </td><td>yes              </td><td>no               </td><td>cellular         </td><td>jul              </td><td>wed              </td><td>1                </td><td>999              </td><td>0                </td><td>nonexistent      </td><td> 1.4             </td><td>93.918           </td><td>-42.7            </td><td>4.963            </td><td>5228.1           </td><td>0                </td></tr>\n",
       "\t<tr><td>33               </td><td>services         </td><td>married          </td><td>high.school      </td><td>no               </td><td>no               </td><td>yes              </td><td>telephone        </td><td>may              </td><td>fri              </td><td>2                </td><td>999              </td><td>0                </td><td>nonexistent      </td><td> 1.1             </td><td>93.994           </td><td>-36.4            </td><td>4.859            </td><td>5191.0           </td><td>0                </td></tr>\n",
       "</tbody>\n",
       "</table>\n"
      ],
      "text/latex": [
       "\\begin{tabular}{r|llllllllllllllllllll}\n",
       " age & job & marital & education & default & housing & loan & contact & month & day\\_of\\_week & campaign & pdays & previous & poutcome & emp.var.rate & cons.price.idx & cons.conf.idx & euribor3m & nr.employed & y.class\\\\\n",
       "\\hline\n",
       "\t 56                & self-employed     & married           & university.degree & no                & yes               & no                & cellular          & nov               & wed               & 1                 & 999               & 0                 & nonexistent       & -0.1              & 93.200            & -42.0             & 4.120             & 5195.8            & 0                \\\\\n",
       "\t 57                & management        & married           & university.degree & no                & no                & no                & cellular          & jul               & tue               & 1                 & 999               & 0                 & nonexistent       &  1.4              & 93.918            & -42.7             & 4.961             & 5228.1            & 0                \\\\\n",
       "\t 36                & admin.            & married           & university.degree & no                & yes               & no                & telephone         & may               & fri               & 2                 & 999               & 0                 & nonexistent       &  1.1              & 93.994            & -36.4             & 4.859             & 5191.0            & 0                \\\\\n",
       "\t 45                & management        & married           & high.school       & unknown           & no                & no                & cellular          & aug               & wed               & 2                 & 999               & 0                 & nonexistent       &  1.4              & 93.444            & -36.1             & 4.964             & 5228.1            & 0                \\\\\n",
       "\t 39                & admin.            & single            & university.degree & no                & yes               & no                & cellular          & jul               & wed               & 1                 & 999               & 0                 & nonexistent       &  1.4              & 93.918            & -42.7             & 4.963             & 5228.1            & 0                \\\\\n",
       "\t 33                & services          & married           & high.school       & no                & no                & yes               & telephone         & may               & fri               & 2                 & 999               & 0                 & nonexistent       &  1.1              & 93.994            & -36.4             & 4.859             & 5191.0            & 0                \\\\\n",
       "\\end{tabular}\n"
      ],
      "text/markdown": [
       "\n",
       "| age | job | marital | education | default | housing | loan | contact | month | day_of_week | campaign | pdays | previous | poutcome | emp.var.rate | cons.price.idx | cons.conf.idx | euribor3m | nr.employed | y.class |\n",
       "|---|---|---|---|---|---|---|---|---|---|---|---|---|---|---|---|---|---|---|---|\n",
       "| 56                | self-employed     | married           | university.degree | no                | yes               | no                | cellular          | nov               | wed               | 1                 | 999               | 0                 | nonexistent       | -0.1              | 93.200            | -42.0             | 4.120             | 5195.8            | 0                 |\n",
       "| 57                | management        | married           | university.degree | no                | no                | no                | cellular          | jul               | tue               | 1                 | 999               | 0                 | nonexistent       |  1.4              | 93.918            | -42.7             | 4.961             | 5228.1            | 0                 |\n",
       "| 36                | admin.            | married           | university.degree | no                | yes               | no                | telephone         | may               | fri               | 2                 | 999               | 0                 | nonexistent       |  1.1              | 93.994            | -36.4             | 4.859             | 5191.0            | 0                 |\n",
       "| 45                | management        | married           | high.school       | unknown           | no                | no                | cellular          | aug               | wed               | 2                 | 999               | 0                 | nonexistent       |  1.4              | 93.444            | -36.1             | 4.964             | 5228.1            | 0                 |\n",
       "| 39                | admin.            | single            | university.degree | no                | yes               | no                | cellular          | jul               | wed               | 1                 | 999               | 0                 | nonexistent       |  1.4              | 93.918            | -42.7             | 4.963             | 5228.1            | 0                 |\n",
       "| 33                | services          | married           | high.school       | no                | no                | yes               | telephone         | may               | fri               | 2                 | 999               | 0                 | nonexistent       |  1.1              | 93.994            | -36.4             | 4.859             | 5191.0            | 0                 |\n",
       "\n"
      ],
      "text/plain": [
       "  age job           marital education         default housing loan contact  \n",
       "1 56  self-employed married university.degree no      yes     no   cellular \n",
       "2 57  management    married university.degree no      no      no   cellular \n",
       "3 36  admin.        married university.degree no      yes     no   telephone\n",
       "4 45  management    married high.school       unknown no      no   cellular \n",
       "5 39  admin.        single  university.degree no      yes     no   cellular \n",
       "6 33  services      married high.school       no      no      yes  telephone\n",
       "  month day_of_week campaign pdays previous poutcome    emp.var.rate\n",
       "1 nov   wed         1        999   0        nonexistent -0.1        \n",
       "2 jul   tue         1        999   0        nonexistent  1.4        \n",
       "3 may   fri         2        999   0        nonexistent  1.1        \n",
       "4 aug   wed         2        999   0        nonexistent  1.4        \n",
       "5 jul   wed         1        999   0        nonexistent  1.4        \n",
       "6 may   fri         2        999   0        nonexistent  1.1        \n",
       "  cons.price.idx cons.conf.idx euribor3m nr.employed y.class\n",
       "1 93.200         -42.0         4.120     5195.8      0      \n",
       "2 93.918         -42.7         4.961     5228.1      0      \n",
       "3 93.994         -36.4         4.859     5191.0      0      \n",
       "4 93.444         -36.1         4.964     5228.1      0      \n",
       "5 93.918         -42.7         4.963     5228.1      0      \n",
       "6 93.994         -36.4         4.859     5191.0      0      "
      ]
     },
     "metadata": {},
     "output_type": "display_data"
    }
   ],
   "source": [
    "head(train)"
   ]
  },
  {
   "cell_type": "code",
   "execution_count": 4,
   "id": "c05d65ce",
   "metadata": {},
   "outputs": [
    {
     "name": "stderr",
     "output_type": "stream",
     "text": [
      "randomForest 4.6-14\n",
      "Type rfNews() to see new features/changes/bug fixes.\n"
     ]
    }
   ],
   "source": [
    "library(\"randomForest\")"
   ]
  },
  {
   "cell_type": "code",
   "execution_count": 17,
   "id": "c2b69291",
   "metadata": {},
   "outputs": [
    {
     "name": "stderr",
     "output_type": "stream",
     "text": [
      "Warning message in randomForest.default(m, y, ...):\n",
      "\"The response has five or fewer unique values.  Are you sure you want to do regression?\""
     ]
    }
   ],
   "source": [
    "rf <- randomForest(y.class~., data=train, type = 'classification', importance=TRUE)"
   ]
  },
  {
   "cell_type": "code",
   "execution_count": 18,
   "id": "7e8b7164",
   "metadata": {},
   "outputs": [
    {
     "name": "stdout",
     "output_type": "stream",
     "text": [
      "\n",
      "Call:\n",
      " randomForest(formula = y.class ~ ., data = train, type = \"classification\",      importance = TRUE) \n",
      "               Type of random forest: regression\n",
      "                     Number of trees: 500\n",
      "No. of variables tried at each split: 6\n",
      "\n",
      "          Mean of squared residuals: 0.08082805\n",
      "                    % Var explained: 17.09\n"
     ]
    }
   ],
   "source": [
    "print(rf)"
   ]
  },
  {
   "cell_type": "code",
   "execution_count": 19,
   "id": "932d9075",
   "metadata": {},
   "outputs": [],
   "source": [
    "result.RF <- predict(rf, newdata=test, type=\"response\")"
   ]
  },
  {
   "cell_type": "code",
   "execution_count": 20,
   "id": "3f17bc9c",
   "metadata": {},
   "outputs": [
    {
     "data": {
      "image/png": "[encoded data removed]",
      "text/plain": [
       "Plot with title \"RF\""
      ]
     },
     "metadata": {},
     "output_type": "display_data"
    }
   ],
   "source": [
    "library(\"ROCR\")\n",
    "fit.RF.pred <-prediction( result.RF, test[,20])\n",
    "fit.RF.perf <- performance(fit.RF.pred,\"tpr\",\"fpr\")\n",
    "plot( fit.RF.perf,lwd=2,col=\"blue\", main=\"RF\")\n",
    "abline(a=0,b=1)"
   ]
  },
  {
   "cell_type": "code",
   "execution_count": 23,
   "id": "49c4312d",
   "metadata": {},
   "outputs": [
    {
     "data": {
      "text/html": [
       "0.775206441085948"
      ],
      "text/latex": [
       "0.775206441085948"
      ],
      "text/markdown": [
       "0.775206441085948"
      ],
      "text/plain": [
       "[1] 0.7752064"
      ]
     },
     "metadata": {},
     "output_type": "display_data"
    }
   ],
   "source": [
    "auc.RF.tmp <- performance(fit.RF.pred, \"auc\")\n",
    "auc.RF <- as.numeric(auc.RF.tmp@y.values)\n",
    "auc.RF"
   ]
  },
  {
   "cell_type": "markdown",
   "id": "860cb689",
   "metadata": {},
   "source": [
    "# SVM"
   ]
  },
  {
   "cell_type": "code",
   "execution_count": 1,
   "id": "4e67089f",
   "metadata": {},
   "outputs": [
    {
     "name": "stderr",
     "output_type": "stream",
     "text": [
      "Warning message:\n",
      "\"package 'e1071' was built under R version 3.6.3\""
     ]
    }
   ],
   "source": [
    "library(e1071)\n",
    "library(kernlab)"
   ]
  },
  {
   "cell_type": "code",
   "execution_count": 23,
   "id": "7c901f10",
   "metadata": {},
   "outputs": [],
   "source": [
    "svmfit <- svm(y.class~., data = train, kernel = \"polynomial\", cost = 10)"
   ]
  },
  {
   "cell_type": "code",
   "execution_count": 24,
   "id": "08c2fff7",
   "metadata": {},
   "outputs": [],
   "source": [
    "result.SVM <- predict(svmfit, newdata=test, type=\"response\")"
   ]
  },
  {
   "cell_type": "code",
   "execution_count": 25,
   "id": "ab48bae1",
   "metadata": {},
   "outputs": [
    {
     "data": {
      "image/png": "[encoded data removed]",
      "text/plain": [
       "Plot with title \"SVM\""
      ]
     },
     "metadata": {},
     "output_type": "display_data"
    }
   ],
   "source": [
    "library(\"ROCR\")\n",
    "fit.SVM.pred <-prediction( result.SVM, test[,20])\n",
    "fit.SVM.perf <- performance(fit.SVM.pred,\"tpr\",\"fpr\")\n",
    "plot( fit.SVM.perf,lwd=2,col=\"blue\", main=\"SVM\")\n",
    "abline(a=0,b=1)"
   ]
  },
  {
   "cell_type": "code",
   "execution_count": 26,
   "id": "9b9b9dfa",
   "metadata": {},
   "outputs": [
    {
     "data": {
      "text/html": [
       "0.658183349463965"
      ],
      "text/latex": [
       "0.658183349463965"
      ],
      "text/markdown": [
       "0.658183349463965"
      ],
      "text/plain": [
       "[1] 0.6581833"
      ]
     },
     "metadata": {},
     "output_type": "display_data"
    }
   ],
   "source": [
    "auc.SVM.tmp <- performance(fit.SVM.pred, \"auc\")\n",
    "auc.SVM <- as.numeric(auc.SVM.tmp@y.values)\n",
    "auc.SVM"
   ]
  }
 ],
 "metadata": {
  "kernelspec": {
   "display_name": "R",
   "language": "R",
   "name": "ir"
  },
  "language_info": {
   "codemirror_mode": "r",
   "file_extension": ".r",
   "mimetype": "text/x-r-source",
   "name": "R",
   "pygments_lexer": "r",
   "version": "3.6.1"
  }
 },
 "nbformat": 4,
 "nbformat_minor": 5
}
