{
 "cells": [
  {
   "cell_type": "markdown",
   "id": "942c6478",
   "metadata": {},
   "source": [
    "# Dataset"
   ]
  },
  {
   "cell_type": "code",
   "execution_count": 6,
   "id": "02b4261f",
   "metadata": {
    "vscode": {
     "languageId": "r"
    }
   },
   "outputs": [],
   "source": [
    "train_test_new <- read.csv(\"train-test-new.csv\")"
   ]
  },
  {
   "cell_type": "code",
   "execution_count": 7,
   "id": "4c97eded",
   "metadata": {
    "vscode": {
     "languageId": "r"
    }
   },
   "outputs": [
    {
     "data": {
      "text/html": [
       "<table class=\"dataframe\">\n",
       "<caption>A data.frame: 6 × 20</caption>\n",
       "<thead>\n",
       "\t<tr><th></th><th scope=col>age</th><th scope=col>job</th><th scope=col>marital</th><th scope=col>education</th><th scope=col>default</th><th scope=col>housing</th><th scope=col>loan</th><th scope=col>contact</th><th scope=col>month</th><th scope=col>day_of_week</th><th scope=col>campaign</th><th scope=col>pdays</th><th scope=col>previous</th><th scope=col>poutcome</th><th scope=col>emp.var.rate</th><th scope=col>cons.price.idx</th><th scope=col>cons.conf.idx</th><th scope=col>euribor3m</th><th scope=col>nr.employed</th><th scope=col>y</th></tr>\n",
       "\t<tr><th></th><th scope=col>&lt;int&gt;</th><th scope=col>&lt;chr&gt;</th><th scope=col>&lt;chr&gt;</th><th scope=col>&lt;chr&gt;</th><th scope=col>&lt;chr&gt;</th><th scope=col>&lt;chr&gt;</th><th scope=col>&lt;chr&gt;</th><th scope=col>&lt;chr&gt;</th><th scope=col>&lt;chr&gt;</th><th scope=col>&lt;chr&gt;</th><th scope=col>&lt;int&gt;</th><th scope=col>&lt;int&gt;</th><th scope=col>&lt;int&gt;</th><th scope=col>&lt;chr&gt;</th><th scope=col>&lt;dbl&gt;</th><th scope=col>&lt;dbl&gt;</th><th scope=col>&lt;dbl&gt;</th><th scope=col>&lt;dbl&gt;</th><th scope=col>&lt;dbl&gt;</th><th scope=col>&lt;chr&gt;</th></tr>\n",
       "</thead>\n",
       "<tbody>\n",
       "\t<tr><th scope=row>1</th><td>56</td><td>self-employed</td><td>married</td><td>university.degree</td><td>no     </td><td>yes</td><td>no </td><td>cellular </td><td>nov</td><td>wed</td><td>1</td><td>999</td><td>0</td><td>nonexistent</td><td>-0.1</td><td>93.200</td><td>-42.0</td><td>4.120</td><td>5195.8</td><td>no</td></tr>\n",
       "\t<tr><th scope=row>2</th><td>57</td><td>management   </td><td>married</td><td>university.degree</td><td>no     </td><td>no </td><td>no </td><td>cellular </td><td>jul</td><td>tue</td><td>1</td><td>999</td><td>0</td><td>nonexistent</td><td> 1.4</td><td>93.918</td><td>-42.7</td><td>4.961</td><td>5228.1</td><td>no</td></tr>\n",
       "\t<tr><th scope=row>3</th><td>36</td><td>admin.       </td><td>married</td><td>university.degree</td><td>no     </td><td>yes</td><td>no </td><td>telephone</td><td>may</td><td>fri</td><td>2</td><td>999</td><td>0</td><td>nonexistent</td><td> 1.1</td><td>93.994</td><td>-36.4</td><td>4.859</td><td>5191.0</td><td>no</td></tr>\n",
       "\t<tr><th scope=row>4</th><td>45</td><td>management   </td><td>married</td><td>high.school      </td><td>unknown</td><td>no </td><td>no </td><td>cellular </td><td>aug</td><td>wed</td><td>2</td><td>999</td><td>0</td><td>nonexistent</td><td> 1.4</td><td>93.444</td><td>-36.1</td><td>4.964</td><td>5228.1</td><td>no</td></tr>\n",
       "\t<tr><th scope=row>5</th><td>39</td><td>admin.       </td><td>single </td><td>university.degree</td><td>no     </td><td>yes</td><td>no </td><td>cellular </td><td>jul</td><td>wed</td><td>1</td><td>999</td><td>0</td><td>nonexistent</td><td> 1.4</td><td>93.918</td><td>-42.7</td><td>4.963</td><td>5228.1</td><td>no</td></tr>\n",
       "\t<tr><th scope=row>6</th><td>33</td><td>services     </td><td>married</td><td>high.school      </td><td>no     </td><td>no </td><td>yes</td><td>telephone</td><td>may</td><td>fri</td><td>2</td><td>999</td><td>0</td><td>nonexistent</td><td> 1.1</td><td>93.994</td><td>-36.4</td><td>4.859</td><td>5191.0</td><td>no</td></tr>\n",
       "</tbody>\n",
       "</table>\n"
      ],
      "text/latex": [
       "A data.frame: 6 × 20\n",
       "\\begin{tabular}{r|llllllllllllllllllll}\n",
       "  & age & job & marital & education & default & housing & loan & contact & month & day\\_of\\_week & campaign & pdays & previous & poutcome & emp.var.rate & cons.price.idx & cons.conf.idx & euribor3m & nr.employed & y\\\\\n",
       "  & <int> & <chr> & <chr> & <chr> & <chr> & <chr> & <chr> & <chr> & <chr> & <chr> & <int> & <int> & <int> & <chr> & <dbl> & <dbl> & <dbl> & <dbl> & <dbl> & <chr>\\\\\n",
       "\\hline\n",
       "\t1 & 56 & self-employed & married & university.degree & no      & yes & no  & cellular  & nov & wed & 1 & 999 & 0 & nonexistent & -0.1 & 93.200 & -42.0 & 4.120 & 5195.8 & no\\\\\n",
       "\t2 & 57 & management    & married & university.degree & no      & no  & no  & cellular  & jul & tue & 1 & 999 & 0 & nonexistent &  1.4 & 93.918 & -42.7 & 4.961 & 5228.1 & no\\\\\n",
       "\t3 & 36 & admin.        & married & university.degree & no      & yes & no  & telephone & may & fri & 2 & 999 & 0 & nonexistent &  1.1 & 93.994 & -36.4 & 4.859 & 5191.0 & no\\\\\n",
       "\t4 & 45 & management    & married & high.school       & unknown & no  & no  & cellular  & aug & wed & 2 & 999 & 0 & nonexistent &  1.4 & 93.444 & -36.1 & 4.964 & 5228.1 & no\\\\\n",
       "\t5 & 39 & admin.        & single  & university.degree & no      & yes & no  & cellular  & jul & wed & 1 & 999 & 0 & nonexistent &  1.4 & 93.918 & -42.7 & 4.963 & 5228.1 & no\\\\\n",
       "\t6 & 33 & services      & married & high.school       & no      & no  & yes & telephone & may & fri & 2 & 999 & 0 & nonexistent &  1.1 & 93.994 & -36.4 & 4.859 & 5191.0 & no\\\\\n",
       "\\end{tabular}\n"
      ],
      "text/markdown": [
       "\n",
       "A data.frame: 6 × 20\n",
       "\n",
       "| <!--/--> | age &lt;int&gt; | job &lt;chr&gt; | marital &lt;chr&gt; | education &lt;chr&gt; | default &lt;chr&gt; | housing &lt;chr&gt; | loan &lt;chr&gt; | contact &lt;chr&gt; | month &lt;chr&gt; | day_of_week &lt;chr&gt; | campaign &lt;int&gt; | pdays &lt;int&gt; | previous &lt;int&gt; | poutcome &lt;chr&gt; | emp.var.rate &lt;dbl&gt; | cons.price.idx &lt;dbl&gt; | cons.conf.idx &lt;dbl&gt; | euribor3m &lt;dbl&gt; | nr.employed &lt;dbl&gt; | y &lt;chr&gt; |\n",
       "|---|---|---|---|---|---|---|---|---|---|---|---|---|---|---|---|---|---|---|---|---|\n",
       "| 1 | 56 | self-employed | married | university.degree | no      | yes | no  | cellular  | nov | wed | 1 | 999 | 0 | nonexistent | -0.1 | 93.200 | -42.0 | 4.120 | 5195.8 | no |\n",
       "| 2 | 57 | management    | married | university.degree | no      | no  | no  | cellular  | jul | tue | 1 | 999 | 0 | nonexistent |  1.4 | 93.918 | -42.7 | 4.961 | 5228.1 | no |\n",
       "| 3 | 36 | admin.        | married | university.degree | no      | yes | no  | telephone | may | fri | 2 | 999 | 0 | nonexistent |  1.1 | 93.994 | -36.4 | 4.859 | 5191.0 | no |\n",
       "| 4 | 45 | management    | married | high.school       | unknown | no  | no  | cellular  | aug | wed | 2 | 999 | 0 | nonexistent |  1.4 | 93.444 | -36.1 | 4.964 | 5228.1 | no |\n",
       "| 5 | 39 | admin.        | single  | university.degree | no      | yes | no  | cellular  | jul | wed | 1 | 999 | 0 | nonexistent |  1.4 | 93.918 | -42.7 | 4.963 | 5228.1 | no |\n",
       "| 6 | 33 | services      | married | high.school       | no      | no  | yes | telephone | may | fri | 2 | 999 | 0 | nonexistent |  1.1 | 93.994 | -36.4 | 4.859 | 5191.0 | no |\n",
       "\n"
      ],
      "text/plain": [
       "  age job           marital education         default housing loan contact  \n",
       "1 56  self-employed married university.degree no      yes     no   cellular \n",
       "2 57  management    married university.degree no      no      no   cellular \n",
       "3 36  admin.        married university.degree no      yes     no   telephone\n",
       "4 45  management    married high.school       unknown no      no   cellular \n",
       "5 39  admin.        single  university.degree no      yes     no   cellular \n",
       "6 33  services      married high.school       no      no      yes  telephone\n",
       "  month day_of_week campaign pdays previous poutcome    emp.var.rate\n",
       "1 nov   wed         1        999   0        nonexistent -0.1        \n",
       "2 jul   tue         1        999   0        nonexistent  1.4        \n",
       "3 may   fri         2        999   0        nonexistent  1.1        \n",
       "4 aug   wed         2        999   0        nonexistent  1.4        \n",
       "5 jul   wed         1        999   0        nonexistent  1.4        \n",
       "6 may   fri         2        999   0        nonexistent  1.1        \n",
       "  cons.price.idx cons.conf.idx euribor3m nr.employed y \n",
       "1 93.200         -42.0         4.120     5195.8      no\n",
       "2 93.918         -42.7         4.961     5228.1      no\n",
       "3 93.994         -36.4         4.859     5191.0      no\n",
       "4 93.444         -36.1         4.964     5228.1      no\n",
       "5 93.918         -42.7         4.963     5228.1      no\n",
       "6 93.994         -36.4         4.859     5191.0      no"
      ]
     },
     "metadata": {},
     "output_type": "display_data"
    }
   ],
   "source": [
    "head(train_test_new)"
   ]
  },
  {
   "cell_type": "code",
   "execution_count": 8,
   "id": "ab5cde38",
   "metadata": {
    "vscode": {
     "languageId": "r"
    }
   },
   "outputs": [],
   "source": [
    "n <- length(train_test_new[,1])\n",
    "y.class <- rep(0,n)"
   ]
  },
  {
   "cell_type": "code",
   "execution_count": 9,
   "id": "4ecf9f18",
   "metadata": {
    "vscode": {
     "languageId": "r"
    }
   },
   "outputs": [],
   "source": [
    "for (i in 1:n){\n",
    "    if (train_test_new[i, 20] == \"yes\"){\n",
    "        y.class[i] <- 1\n",
    "    }\n",
    "}"
   ]
  },
  {
   "cell_type": "code",
   "execution_count": 10,
   "id": "9bf76879",
   "metadata": {
    "vscode": {
     "languageId": "r"
    }
   },
   "outputs": [
    {
     "data": {
      "text/html": [
       "<table class=\"dataframe\">\n",
       "<caption>A data.frame: 6 × 20</caption>\n",
       "<thead>\n",
       "\t<tr><th></th><th scope=col>age</th><th scope=col>job</th><th scope=col>marital</th><th scope=col>education</th><th scope=col>default</th><th scope=col>housing</th><th scope=col>loan</th><th scope=col>contact</th><th scope=col>month</th><th scope=col>day_of_week</th><th scope=col>campaign</th><th scope=col>pdays</th><th scope=col>previous</th><th scope=col>poutcome</th><th scope=col>emp.var.rate</th><th scope=col>cons.price.idx</th><th scope=col>cons.conf.idx</th><th scope=col>euribor3m</th><th scope=col>nr.employed</th><th scope=col>y.class</th></tr>\n",
       "\t<tr><th></th><th scope=col>&lt;int&gt;</th><th scope=col>&lt;chr&gt;</th><th scope=col>&lt;chr&gt;</th><th scope=col>&lt;chr&gt;</th><th scope=col>&lt;chr&gt;</th><th scope=col>&lt;chr&gt;</th><th scope=col>&lt;chr&gt;</th><th scope=col>&lt;chr&gt;</th><th scope=col>&lt;chr&gt;</th><th scope=col>&lt;chr&gt;</th><th scope=col>&lt;int&gt;</th><th scope=col>&lt;int&gt;</th><th scope=col>&lt;int&gt;</th><th scope=col>&lt;chr&gt;</th><th scope=col>&lt;dbl&gt;</th><th scope=col>&lt;dbl&gt;</th><th scope=col>&lt;dbl&gt;</th><th scope=col>&lt;dbl&gt;</th><th scope=col>&lt;dbl&gt;</th><th scope=col>&lt;dbl&gt;</th></tr>\n",
       "</thead>\n",
       "<tbody>\n",
       "\t<tr><th scope=row>1</th><td>56</td><td>self-employed</td><td>married</td><td>university.degree</td><td>no     </td><td>yes</td><td>no </td><td>cellular </td><td>nov</td><td>wed</td><td>1</td><td>999</td><td>0</td><td>nonexistent</td><td>-0.1</td><td>93.200</td><td>-42.0</td><td>4.120</td><td>5195.8</td><td>0</td></tr>\n",
       "\t<tr><th scope=row>2</th><td>57</td><td>management   </td><td>married</td><td>university.degree</td><td>no     </td><td>no </td><td>no </td><td>cellular </td><td>jul</td><td>tue</td><td>1</td><td>999</td><td>0</td><td>nonexistent</td><td> 1.4</td><td>93.918</td><td>-42.7</td><td>4.961</td><td>5228.1</td><td>0</td></tr>\n",
       "\t<tr><th scope=row>3</th><td>36</td><td>admin.       </td><td>married</td><td>university.degree</td><td>no     </td><td>yes</td><td>no </td><td>telephone</td><td>may</td><td>fri</td><td>2</td><td>999</td><td>0</td><td>nonexistent</td><td> 1.1</td><td>93.994</td><td>-36.4</td><td>4.859</td><td>5191.0</td><td>0</td></tr>\n",
       "\t<tr><th scope=row>4</th><td>45</td><td>management   </td><td>married</td><td>high.school      </td><td>unknown</td><td>no </td><td>no </td><td>cellular </td><td>aug</td><td>wed</td><td>2</td><td>999</td><td>0</td><td>nonexistent</td><td> 1.4</td><td>93.444</td><td>-36.1</td><td>4.964</td><td>5228.1</td><td>0</td></tr>\n",
       "\t<tr><th scope=row>5</th><td>39</td><td>admin.       </td><td>single </td><td>university.degree</td><td>no     </td><td>yes</td><td>no </td><td>cellular </td><td>jul</td><td>wed</td><td>1</td><td>999</td><td>0</td><td>nonexistent</td><td> 1.4</td><td>93.918</td><td>-42.7</td><td>4.963</td><td>5228.1</td><td>0</td></tr>\n",
       "\t<tr><th scope=row>6</th><td>33</td><td>services     </td><td>married</td><td>high.school      </td><td>no     </td><td>no </td><td>yes</td><td>telephone</td><td>may</td><td>fri</td><td>2</td><td>999</td><td>0</td><td>nonexistent</td><td> 1.1</td><td>93.994</td><td>-36.4</td><td>4.859</td><td>5191.0</td><td>0</td></tr>\n",
       "</tbody>\n",
       "</table>\n"
      ],
      "text/latex": [
       "A data.frame: 6 × 20\n",
       "\\begin{tabular}{r|llllllllllllllllllll}\n",
       "  & age & job & marital & education & default & housing & loan & contact & month & day\\_of\\_week & campaign & pdays & previous & poutcome & emp.var.rate & cons.price.idx & cons.conf.idx & euribor3m & nr.employed & y.class\\\\\n",
       "  & <int> & <chr> & <chr> & <chr> & <chr> & <chr> & <chr> & <chr> & <chr> & <chr> & <int> & <int> & <int> & <chr> & <dbl> & <dbl> & <dbl> & <dbl> & <dbl> & <dbl>\\\\\n",
       "\\hline\n",
       "\t1 & 56 & self-employed & married & university.degree & no      & yes & no  & cellular  & nov & wed & 1 & 999 & 0 & nonexistent & -0.1 & 93.200 & -42.0 & 4.120 & 5195.8 & 0\\\\\n",
       "\t2 & 57 & management    & married & university.degree & no      & no  & no  & cellular  & jul & tue & 1 & 999 & 0 & nonexistent &  1.4 & 93.918 & -42.7 & 4.961 & 5228.1 & 0\\\\\n",
       "\t3 & 36 & admin.        & married & university.degree & no      & yes & no  & telephone & may & fri & 2 & 999 & 0 & nonexistent &  1.1 & 93.994 & -36.4 & 4.859 & 5191.0 & 0\\\\\n",
       "\t4 & 45 & management    & married & high.school       & unknown & no  & no  & cellular  & aug & wed & 2 & 999 & 0 & nonexistent &  1.4 & 93.444 & -36.1 & 4.964 & 5228.1 & 0\\\\\n",
       "\t5 & 39 & admin.        & single  & university.degree & no      & yes & no  & cellular  & jul & wed & 1 & 999 & 0 & nonexistent &  1.4 & 93.918 & -42.7 & 4.963 & 5228.1 & 0\\\\\n",
       "\t6 & 33 & services      & married & high.school       & no      & no  & yes & telephone & may & fri & 2 & 999 & 0 & nonexistent &  1.1 & 93.994 & -36.4 & 4.859 & 5191.0 & 0\\\\\n",
       "\\end{tabular}\n"
      ],
      "text/markdown": [
       "\n",
       "A data.frame: 6 × 20\n",
       "\n",
       "| <!--/--> | age &lt;int&gt; | job &lt;chr&gt; | marital &lt;chr&gt; | education &lt;chr&gt; | default &lt;chr&gt; | housing &lt;chr&gt; | loan &lt;chr&gt; | contact &lt;chr&gt; | month &lt;chr&gt; | day_of_week &lt;chr&gt; | campaign &lt;int&gt; | pdays &lt;int&gt; | previous &lt;int&gt; | poutcome &lt;chr&gt; | emp.var.rate &lt;dbl&gt; | cons.price.idx &lt;dbl&gt; | cons.conf.idx &lt;dbl&gt; | euribor3m &lt;dbl&gt; | nr.employed &lt;dbl&gt; | y.class &lt;dbl&gt; |\n",
       "|---|---|---|---|---|---|---|---|---|---|---|---|---|---|---|---|---|---|---|---|---|\n",
       "| 1 | 56 | self-employed | married | university.degree | no      | yes | no  | cellular  | nov | wed | 1 | 999 | 0 | nonexistent | -0.1 | 93.200 | -42.0 | 4.120 | 5195.8 | 0 |\n",
       "| 2 | 57 | management    | married | university.degree | no      | no  | no  | cellular  | jul | tue | 1 | 999 | 0 | nonexistent |  1.4 | 93.918 | -42.7 | 4.961 | 5228.1 | 0 |\n",
       "| 3 | 36 | admin.        | married | university.degree | no      | yes | no  | telephone | may | fri | 2 | 999 | 0 | nonexistent |  1.1 | 93.994 | -36.4 | 4.859 | 5191.0 | 0 |\n",
       "| 4 | 45 | management    | married | high.school       | unknown | no  | no  | cellular  | aug | wed | 2 | 999 | 0 | nonexistent |  1.4 | 93.444 | -36.1 | 4.964 | 5228.1 | 0 |\n",
       "| 5 | 39 | admin.        | single  | university.degree | no      | yes | no  | cellular  | jul | wed | 1 | 999 | 0 | nonexistent |  1.4 | 93.918 | -42.7 | 4.963 | 5228.1 | 0 |\n",
       "| 6 | 33 | services      | married | high.school       | no      | no  | yes | telephone | may | fri | 2 | 999 | 0 | nonexistent |  1.1 | 93.994 | -36.4 | 4.859 | 5191.0 | 0 |\n",
       "\n"
      ],
      "text/plain": [
       "  age job           marital education         default housing loan contact  \n",
       "1 56  self-employed married university.degree no      yes     no   cellular \n",
       "2 57  management    married university.degree no      no      no   cellular \n",
       "3 36  admin.        married university.degree no      yes     no   telephone\n",
       "4 45  management    married high.school       unknown no      no   cellular \n",
       "5 39  admin.        single  university.degree no      yes     no   cellular \n",
       "6 33  services      married high.school       no      no      yes  telephone\n",
       "  month day_of_week campaign pdays previous poutcome    emp.var.rate\n",
       "1 nov   wed         1        999   0        nonexistent -0.1        \n",
       "2 jul   tue         1        999   0        nonexistent  1.4        \n",
       "3 may   fri         2        999   0        nonexistent  1.1        \n",
       "4 aug   wed         2        999   0        nonexistent  1.4        \n",
       "5 jul   wed         1        999   0        nonexistent  1.4        \n",
       "6 may   fri         2        999   0        nonexistent  1.1        \n",
       "  cons.price.idx cons.conf.idx euribor3m nr.employed y.class\n",
       "1 93.200         -42.0         4.120     5195.8      0      \n",
       "2 93.918         -42.7         4.961     5228.1      0      \n",
       "3 93.994         -36.4         4.859     5191.0      0      \n",
       "4 93.444         -36.1         4.964     5228.1      0      \n",
       "5 93.918         -42.7         4.963     5228.1      0      \n",
       "6 93.994         -36.4         4.859     5191.0      0      "
      ]
     },
     "metadata": {},
     "output_type": "display_data"
    }
   ],
   "source": [
    "train_test_all <- cbind(train_test_new[,1:19], y.class)\n",
    "head(train_test_all)"
   ]
  },
  {
   "cell_type": "code",
   "execution_count": 11,
   "id": "4761a29c",
   "metadata": {
    "vscode": {
     "languageId": "r"
    }
   },
   "outputs": [],
   "source": [
    "train <- train_test_all[1:8000,]\n",
    "test <- train_test_all[8001:10000,]"
   ]
  },
  {
   "cell_type": "markdown",
   "id": "c1b63aa2",
   "metadata": {},
   "source": [
    "# Logistic Regression"
   ]
  },
  {
   "cell_type": "code",
   "execution_count": 25,
   "id": "e8e42283",
   "metadata": {
    "vscode": {
     "languageId": "r"
    }
   },
   "outputs": [],
   "source": [
    "result.LR1 <- glm(y.class~., data=train, family=binomial)"
   ]
  },
  {
   "cell_type": "code",
   "execution_count": 26,
   "id": "2ccc445f",
   "metadata": {
    "vscode": {
     "languageId": "r"
    }
   },
   "outputs": [
    {
     "data": {
      "text/plain": [
       "\n",
       "Call:\n",
       "glm(formula = y.class ~ ., family = binomial, data = train)\n",
       "\n",
       "Deviance Residuals: \n",
       "    Min       1Q   Median       3Q      Max  \n",
       "-2.0286  -0.3931  -0.3156  -0.2555   2.8448  \n",
       "\n",
       "Coefficients: (1 not defined because of singularities)\n",
       "                               Estimate Std. Error z value Pr(>|z|)    \n",
       "(Intercept)                  -1.274e+02  7.792e+01  -1.635 0.102048    \n",
       "age                          -5.921e-03  4.777e-03  -1.240 0.215158    \n",
       "jobblue-collar                6.226e-02  1.594e-01   0.391 0.696043    \n",
       "jobentrepreneur               2.104e-01  2.345e-01   0.897 0.369555    \n",
       "jobhousemaid                  3.492e-01  2.692e-01   1.297 0.194473    \n",
       "jobmanagement                 2.070e-01  1.715e-01   1.207 0.227460    \n",
       "jobretired                    6.060e-01  2.116e-01   2.864 0.004184 ** \n",
       "jobself-employed             -3.045e-01  2.706e-01  -1.125 0.260413    \n",
       "jobservices                   1.494e-02  1.719e-01   0.087 0.930706    \n",
       "jobstudent                    1.882e-02  2.442e-01   0.077 0.938588    \n",
       "jobtechnician                 2.088e-01  1.439e-01   1.451 0.146874    \n",
       "jobunemployed                 8.431e-02  2.410e-01   0.350 0.726498    \n",
       "jobunknown                    1.893e-02  4.339e-01   0.044 0.965208    \n",
       "maritalmarried                1.737e-01  1.417e-01   1.226 0.220302    \n",
       "maritalsingle                 9.885e-02  1.616e-01   0.612 0.540612    \n",
       "maritalunknown                1.008e+00  7.862e-01   1.282 0.199843    \n",
       "educationbasic.6y             2.193e-01  2.324e-01   0.944 0.345388    \n",
       "educationbasic.9y            -7.236e-02  1.954e-01  -0.370 0.711103    \n",
       "educationhigh.school          1.737e-01  1.870e-01   0.929 0.353004    \n",
       "educationilliterate           1.157e+00  9.031e-01   1.281 0.200124    \n",
       "educationprofessional.course  1.580e-01  2.040e-01   0.774 0.438683    \n",
       "educationuniversity.degree    2.144e-01  1.873e-01   1.145 0.252368    \n",
       "educationunknown              2.985e-01  2.383e-01   1.252 0.210390    \n",
       "defaultunknown               -1.545e-01  1.310e-01  -1.179 0.238333    \n",
       "defaultyes                   -8.696e+00  1.970e+02  -0.044 0.964786    \n",
       "housingunknown                2.423e-01  2.522e-01   0.961 0.336629    \n",
       "housingyes                   -1.207e-01  8.295e-02  -1.455 0.145763    \n",
       "loanunknown                          NA         NA      NA       NA    \n",
       "loanyes                      -9.967e-02  1.164e-01  -0.856 0.391745    \n",
       "contacttelephone             -6.181e-01  1.558e-01  -3.968 7.25e-05 ***\n",
       "monthaug                     -7.602e-02  2.460e-01  -0.309 0.757302    \n",
       "monthdec                     -1.724e-01  4.384e-01  -0.393 0.694170    \n",
       "monthjul                     -3.451e-02  1.920e-01  -0.180 0.857332    \n",
       "monthjun                     -4.616e-01  2.581e-01  -1.788 0.073714 .  \n",
       "monthmar                      1.060e+00  2.963e-01   3.576 0.000349 ***\n",
       "monthmay                     -7.426e-01  1.675e-01  -4.433 9.31e-06 ***\n",
       "monthnov                     -5.576e-01  2.386e-01  -2.337 0.019429 *  \n",
       "monthoct                     -4.488e-01  3.144e-01  -1.427 0.153474    \n",
       "monthsep                     -5.067e-01  3.584e-01  -1.414 0.157466    \n",
       "day_of_weekmon               -2.631e-01  1.341e-01  -1.963 0.049682 *  \n",
       "day_of_weekthu                2.101e-01  1.256e-01   1.673 0.094337 .  \n",
       "day_of_weektue                1.123e-01  1.315e-01   0.854 0.392946    \n",
       "day_of_weekwed                1.448e-01  1.306e-01   1.108 0.267741    \n",
       "campaign                     -2.312e-02  2.089e-02  -1.107 0.268336    \n",
       "pdays                        -7.257e-04  4.212e-04  -1.723 0.084930 .  \n",
       "previous                      6.243e-02  1.370e-01   0.456 0.648701    \n",
       "poutcomenonexistent           6.174e-01  2.087e-01   2.958 0.003095 ** \n",
       "poutcomesuccess               1.385e+00  4.186e-01   3.308 0.000938 ***\n",
       "emp.var.rate                 -1.071e+00  2.878e-01  -3.723 0.000197 ***\n",
       "cons.price.idx                1.304e+00  5.140e-01   2.537 0.011169 *  \n",
       "cons.conf.idx                 3.820e-02  1.630e-02   2.343 0.019128 *  \n",
       "euribor3m                     2.105e-01  2.627e-01   0.801 0.422965    \n",
       "nr.employed                   8.523e-04  6.320e-03   0.135 0.892735    \n",
       "---\n",
       "Signif. codes:  0 '***' 0.001 '**' 0.01 '*' 0.05 '.' 0.1 ' ' 1\n",
       "\n",
       "(Dispersion parameter for binomial family taken to be 1)\n",
       "\n",
       "    Null deviance: 5552.6  on 7999  degrees of freedom\n",
       "Residual deviance: 4356.6  on 7948  degrees of freedom\n",
       "AIC: 4460.6\n",
       "\n",
       "Number of Fisher Scoring iterations: 10\n"
      ]
     },
     "metadata": {},
     "output_type": "display_data"
    }
   ],
   "source": [
    "summary(result.LR1)"
   ]
  },
  {
   "cell_type": "code",
   "execution_count": 27,
   "id": "4e72eb9c",
   "metadata": {
    "vscode": {
     "languageId": "r"
    }
   },
   "outputs": [
    {
     "name": "stderr",
     "output_type": "stream",
     "text": [
      "Warning message in predict.lm(object, newdata, se.fit, scale = 1, type = if (type == :\n",
      "\"prediction from a rank-deficient fit may be misleading\"\n"
     ]
    }
   ],
   "source": [
    "# Use the model to predict y on the test set\n",
    "result.LR2<-predict(result.LR1,newdata=test, type=\"response\")"
   ]
  },
  {
   "cell_type": "code",
   "execution_count": 36,
   "id": "09c589ba",
   "metadata": {
    "vscode": {
     "languageId": "r"
    }
   },
   "outputs": [
    {
     "data": {
      "text/plain": [
       "   Min. 1st Qu.  Median    Mean 3rd Qu.    Max. \n",
       "0.01133 0.03812 0.05339 0.10524 0.08793 0.94687 "
      ]
     },
     "metadata": {},
     "output_type": "display_data"
    }
   ],
   "source": [
    "summary(result.LR2)"
   ]
  },
  {
   "cell_type": "code",
   "execution_count": 28,
   "id": "6f84577b",
   "metadata": {
    "vscode": {
     "languageId": "r"
    }
   },
   "outputs": [
    {
     "name": "stderr",
     "output_type": "stream",
     "text": [
      "Installing package into 'C:/Users/Jun/AppData/Local/R/win-library/4.2'\n",
      "(as 'lib' is unspecified)\n",
      "\n",
      "also installing the dependencies 'bitops', 'gtools', 'caTools', 'gplots'\n",
      "\n",
      "\n"
     ]
    },
    {
     "name": "stdout",
     "output_type": "stream",
     "text": [
      "package 'bitops' successfully unpacked and MD5 sums checked\n",
      "package 'gtools' successfully unpacked and MD5 sums checked\n",
      "package 'caTools' successfully unpacked and MD5 sums checked\n",
      "package 'gplots' successfully unpacked and MD5 sums checked\n",
      "package 'ROCR' successfully unpacked and MD5 sums checked\n",
      "\n",
      "The downloaded binary packages are in\n",
      "\tC:\\Users\\Jun\\AppData\\Local\\Temp\\RtmpEHypB2\\downloaded_packages\n"
     ]
    }
   ],
   "source": [
    "install.packages(\"ROCR\")"
   ]
  },
  {
   "cell_type": "code",
   "execution_count": 29,
   "id": "ac267151",
   "metadata": {
    "vscode": {
     "languageId": "r"
    }
   },
   "outputs": [
    {
     "name": "stderr",
     "output_type": "stream",
     "text": [
      "Warning message:\n",
      "\"package 'ROCR' was built under R version 4.2.2\"\n"
     ]
    },
    {
     "data": {
      "image/png": "[encoded data removed]",
      "text/plain": [
       "Plot with title \"LR\""
      ]
     },
     "metadata": {
      "image/png": {
       "height": 420,
       "width": 420
      }
     },
     "output_type": "display_data"
    }
   ],
   "source": [
    "library(\"ROCR\")\n",
    "fit.LR.pred <-prediction( result.LR2, test[,20])\n",
    "fit.LR.perf <- performance(fit.LR.pred,\"tpr\",\"fpr\")\n",
    "plot( fit.LR.perf,lwd=2,col=\"blue\", main=\"LR\")\n",
    "abline(a=0,b=1)"
   ]
  },
  {
   "attachments": {},
   "cell_type": "markdown",
   "id": "47a7df6c",
   "metadata": {},
   "source": [
    "# Classification Trees"
   ]
  },
  {
   "cell_type": "code",
   "execution_count": 19,
   "id": "698682a9",
   "metadata": {
    "vscode": {
     "languageId": "r"
    }
   },
   "outputs": [],
   "source": [
    "library(rpart)"
   ]
  },
  {
   "cell_type": "code",
   "execution_count": 58,
   "id": "fbf2da82",
   "metadata": {
    "vscode": {
     "languageId": "r"
    }
   },
   "outputs": [],
   "source": [
    "result.Tree1<- rpart(y.class~.,  data=train)"
   ]
  },
  {
   "cell_type": "code",
   "execution_count": 59,
   "id": "3d0701a1",
   "metadata": {
    "vscode": {
     "languageId": "r"
    }
   },
   "outputs": [
    {
     "name": "stdout",
     "output_type": "stream",
     "text": [
      "Call:\n",
      "rpart(formula = y.class ~ ., data = train)\n",
      "  n= 8000 \n",
      "\n",
      "          CP nsplit rel error    xerror       xstd\n",
      "1 0.14047382      0 1.0000000 1.0001179 0.02782897\n",
      "2 0.02818772      1 0.8595262 0.8601706 0.02427039\n",
      "3 0.01933163      2 0.8313385 0.8335498 0.02468951\n",
      "4 0.01000000      3 0.8120068 0.8148974 0.02366555\n",
      "\n",
      "Variable importance\n",
      "   nr.employed      euribor3m  cons.conf.idx   emp.var.rate cons.price.idx \n",
      "            23             20             15             13             10 \n",
      "         month       poutcome          pdays \n",
      "            10              5              4 \n",
      "\n",
      "Node number 1: 8000 observations,    complexity param=0.1404738\n",
      "  mean=0.11025, MSE=0.09809494 \n",
      "  left son=2 (7036 obs) right son=3 (964 obs)\n",
      "  Primary splits:\n",
      "      nr.employed  < 5087.65 to the right, improve=0.1404738, (0 missing)\n",
      "      euribor3m    < 1.0785  to the right, improve=0.1286622, (0 missing)\n",
      "      pdays        < 512     to the right, improve=0.1015868, (0 missing)\n",
      "      poutcome     splits as  LLR,         improve=0.1001297, (0 missing)\n",
      "      emp.var.rate < -0.6    to the right, improve=0.0797213, (0 missing)\n",
      "  Surrogate splits:\n",
      "      euribor3m      < 1.234   to the right, agree=0.983, adj=0.861, (0 split)\n",
      "      emp.var.rate   < -2.35   to the right, agree=0.949, adj=0.580, (0 split)\n",
      "      cons.conf.idx  < -35.45  to the left,  agree=0.942, adj=0.520, (0 split)\n",
      "      cons.price.idx < 92.778  to the right, agree=0.931, adj=0.432, (0 split)\n",
      "      month          splits as  LLRLLLLLRR,  agree=0.914, adj=0.285, (0 split)\n",
      "\n",
      "Node number 2: 7036 observations,    complexity param=0.01933163\n",
      "  mean=0.06679932, MSE=0.06233717 \n",
      "  left son=4 (6482 obs) right son=5 (554 obs)\n",
      "  Primary splits:\n",
      "      month          splits as  RL-LLRLLR-,  improve=0.03458853, (0 missing)\n",
      "      cons.conf.idx  < -46.65  to the right, improve=0.02931425, (0 missing)\n",
      "      euribor3m      < 2.845   to the right, improve=0.01781077, (0 missing)\n",
      "      cons.price.idx < 93.1375 to the right, improve=0.01781077, (0 missing)\n",
      "      emp.var.rate   < -0.95   to the right, improve=0.01781077, (0 missing)\n",
      "  Surrogate splits:\n",
      "      cons.conf.idx  < -46.65  to the right, agree=0.998, adj=0.973, (0 split)\n",
      "      cons.price.idx < 92.868  to the right, agree=0.930, adj=0.110, (0 split)\n",
      "      age            < 61.5    to the left,  agree=0.923, adj=0.025, (0 split)\n",
      "      pdays          < 2.5     to the right, agree=0.922, adj=0.013, (0 split)\n",
      "      euribor3m      < 4.985   to the left,  agree=0.922, adj=0.007, (0 split)\n",
      "\n",
      "Node number 3: 964 observations,    complexity param=0.02818772\n",
      "  mean=0.4273859, MSE=0.2447272 \n",
      "  left son=6 (769 obs) right son=7 (195 obs)\n",
      "  Primary splits:\n",
      "      poutcome  splits as  LLR,         improve=0.09376424, (0 missing)\n",
      "      pdays     < 14.5    to the right, improve=0.08898436, (0 missing)\n",
      "      euribor3m < 0.738   to the right, improve=0.02662704, (0 missing)\n",
      "      previous  < 0.5     to the left,  improve=0.01554023, (0 missing)\n",
      "      month     splits as  RLRLLRRRLL,  improve=0.01541505, (0 missing)\n",
      "  Surrogate splits:\n",
      "      pdays    < 16.5    to the right, agree=0.974, adj=0.872, (0 split)\n",
      "      previous < 2.5     to the left,  agree=0.812, adj=0.072, (0 split)\n",
      "\n",
      "Node number 4: 6482 observations\n",
      "  mean=0.05322431, MSE=0.05039149 \n",
      "\n",
      "Node number 5: 554 observations\n",
      "  mean=0.2256318, MSE=0.1747221 \n",
      "\n",
      "Node number 6: 769 observations\n",
      "  mean=0.3511053, MSE=0.2278304 \n",
      "\n",
      "Node number 7: 195 observations\n",
      "  mean=0.7282051, MSE=0.1979224 \n",
      "\n"
     ]
    }
   ],
   "source": [
    "summary(result.Tree1)"
   ]
  },
  {
   "cell_type": "code",
   "execution_count": 60,
   "id": "cc48419d",
   "metadata": {
    "vscode": {
     "languageId": "r"
    }
   },
   "outputs": [
    {
     "data": {
      "image/png": "[encoded data removed]",
      "text/plain": [
       "plot without title"
      ]
     },
     "metadata": {
      "image/png": {
       "height": 420,
       "width": 420
      }
     },
     "output_type": "display_data"
    }
   ],
   "source": [
    "plot(result.Tree1 , uniform=TRUE, margin=0.1)\n",
    "text( result.Tree1 , use.n=TRUE, all=TRUE)"
   ]
  },
  {
   "cell_type": "code",
   "execution_count": 61,
   "id": "07ff7ca0",
   "metadata": {
    "vscode": {
     "languageId": "r"
    }
   },
   "outputs": [
    {
     "data": {
      "image/png": "[encoded data removed]",
      "text/plain": [
       "plot without title"
      ]
     },
     "metadata": {
      "image/png": {
       "height": 420,
       "width": 420
      }
     },
     "output_type": "display_data"
    }
   ],
   "source": [
    "plotcp(result.Tree1)"
   ]
  },
  {
   "cell_type": "code",
   "execution_count": 62,
   "id": "0198afad",
   "metadata": {
    "vscode": {
     "languageId": "r"
    }
   },
   "outputs": [],
   "source": [
    "result.Tree2<-prune(result.Tree1,\n",
    "cp=result.Tree1$cptable[which.min(result.Tree1$cptable[,\"xerror\"]),\"CP\"])"
   ]
  },
  {
   "cell_type": "code",
   "execution_count": 63,
   "id": "e2b4d01a",
   "metadata": {
    "vscode": {
     "languageId": "r"
    }
   },
   "outputs": [
    {
     "name": "stdout",
     "output_type": "stream",
     "text": [
      "Call:\n",
      "rpart(formula = y.class ~ ., data = train)\n",
      "  n= 8000 \n",
      "\n",
      "          CP nsplit rel error    xerror       xstd\n",
      "1 0.14047382      0 1.0000000 1.0001179 0.02782897\n",
      "2 0.02818772      1 0.8595262 0.8601706 0.02427039\n",
      "3 0.01933163      2 0.8313385 0.8335498 0.02468951\n",
      "4 0.01000000      3 0.8120068 0.8148974 0.02366555\n",
      "\n",
      "Variable importance\n",
      "   nr.employed      euribor3m  cons.conf.idx   emp.var.rate cons.price.idx \n",
      "            23             20             15             13             10 \n",
      "         month       poutcome          pdays \n",
      "            10              5              4 \n",
      "\n",
      "Node number 1: 8000 observations,    complexity param=0.1404738\n",
      "  mean=0.11025, MSE=0.09809494 \n",
      "  left son=2 (7036 obs) right son=3 (964 obs)\n",
      "  Primary splits:\n",
      "      nr.employed  < 5087.65 to the right, improve=0.1404738, (0 missing)\n",
      "      euribor3m    < 1.0785  to the right, improve=0.1286622, (0 missing)\n",
      "      pdays        < 512     to the right, improve=0.1015868, (0 missing)\n",
      "      poutcome     splits as  LLR,         improve=0.1001297, (0 missing)\n",
      "      emp.var.rate < -0.6    to the right, improve=0.0797213, (0 missing)\n",
      "  Surrogate splits:\n",
      "      euribor3m      < 1.234   to the right, agree=0.983, adj=0.861, (0 split)\n",
      "      emp.var.rate   < -2.35   to the right, agree=0.949, adj=0.580, (0 split)\n",
      "      cons.conf.idx  < -35.45  to the left,  agree=0.942, adj=0.520, (0 split)\n",
      "      cons.price.idx < 92.778  to the right, agree=0.931, adj=0.432, (0 split)\n",
      "      month          splits as  LLRLLLLLRR,  agree=0.914, adj=0.285, (0 split)\n",
      "\n",
      "Node number 2: 7036 observations,    complexity param=0.01933163\n",
      "  mean=0.06679932, MSE=0.06233717 \n",
      "  left son=4 (6482 obs) right son=5 (554 obs)\n",
      "  Primary splits:\n",
      "      month          splits as  RL-LLRLLR-,  improve=0.03458853, (0 missing)\n",
      "      cons.conf.idx  < -46.65  to the right, improve=0.02931425, (0 missing)\n",
      "      euribor3m      < 2.845   to the right, improve=0.01781077, (0 missing)\n",
      "      cons.price.idx < 93.1375 to the right, improve=0.01781077, (0 missing)\n",
      "      emp.var.rate   < -0.95   to the right, improve=0.01781077, (0 missing)\n",
      "  Surrogate splits:\n",
      "      cons.conf.idx  < -46.65  to the right, agree=0.998, adj=0.973, (0 split)\n",
      "      cons.price.idx < 92.868  to the right, agree=0.930, adj=0.110, (0 split)\n",
      "      age            < 61.5    to the left,  agree=0.923, adj=0.025, (0 split)\n",
      "      pdays          < 2.5     to the right, agree=0.922, adj=0.013, (0 split)\n",
      "      euribor3m      < 4.985   to the left,  agree=0.922, adj=0.007, (0 split)\n",
      "\n",
      "Node number 3: 964 observations,    complexity param=0.02818772\n",
      "  mean=0.4273859, MSE=0.2447272 \n",
      "  left son=6 (769 obs) right son=7 (195 obs)\n",
      "  Primary splits:\n",
      "      poutcome  splits as  LLR,         improve=0.09376424, (0 missing)\n",
      "      pdays     < 14.5    to the right, improve=0.08898436, (0 missing)\n",
      "      euribor3m < 0.738   to the right, improve=0.02662704, (0 missing)\n",
      "      previous  < 0.5     to the left,  improve=0.01554023, (0 missing)\n",
      "      month     splits as  RLRLLRRRLL,  improve=0.01541505, (0 missing)\n",
      "  Surrogate splits:\n",
      "      pdays    < 16.5    to the right, agree=0.974, adj=0.872, (0 split)\n",
      "      previous < 2.5     to the left,  agree=0.812, adj=0.072, (0 split)\n",
      "\n",
      "Node number 4: 6482 observations\n",
      "  mean=0.05322431, MSE=0.05039149 \n",
      "\n",
      "Node number 5: 554 observations\n",
      "  mean=0.2256318, MSE=0.1747221 \n",
      "\n",
      "Node number 6: 769 observations\n",
      "  mean=0.3511053, MSE=0.2278304 \n",
      "\n",
      "Node number 7: 195 observations\n",
      "  mean=0.7282051, MSE=0.1979224 \n",
      "\n"
     ]
    }
   ],
   "source": [
    "summary(result.Tree2)"
   ]
  },
  {
   "cell_type": "code",
   "execution_count": 64,
   "id": "a1dfa0cf",
   "metadata": {
    "vscode": {
     "languageId": "r"
    }
   },
   "outputs": [
    {
     "ename": "ERROR",
     "evalue": "Error in predict.rpart(result.Tree1, newdata = test, type = \"class\"): Invalid prediction for \"rpart\" object\n",
     "output_type": "error",
     "traceback": [
      "Error in predict.rpart(result.Tree1, newdata = test, type = \"class\"): Invalid prediction for \"rpart\" object\nTraceback:\n",
      "1. predict(result.Tree1, newdata = test, type = \"class\")",
      "2. predict(result.Tree1, newdata = test, type = \"class\")",
      "3. predict.rpart(result.Tree1, newdata = test, type = \"class\")",
      "4. stop(\"Invalid prediction for \\\"rpart\\\" object\")"
     ]
    }
   ],
   "source": [
    "result.Tree3<-predict(result.Tree1,newdata=test, type=\"class\")\n",
    "table(test[,20],result.Tree3)"
   ]
  },
  {
   "cell_type": "code",
   "execution_count": 65,
   "id": "b509b739",
   "metadata": {
    "vscode": {
     "languageId": "r"
    }
   },
   "outputs": [
    {
     "ename": "ERROR",
     "evalue": "Error in predict.rpart(result.Tree1, test, type = \"prob\"): Invalid prediction for \"rpart\" object\n",
     "output_type": "error",
     "traceback": [
      "Error in predict.rpart(result.Tree1, test, type = \"prob\"): Invalid prediction for \"rpart\" object\nTraceback:\n",
      "1. predict(result.Tree1, test, type = \"prob\")",
      "2. predict(result.Tree1, test, type = \"prob\")",
      "3. predict.rpart(result.Tree1, test, type = \"prob\")",
      "4. stop(\"Invalid prediction for \\\"rpart\\\" object\")"
     ]
    }
   ],
   "source": [
    "result.Tree4<-predict(result.Tree1,test,type=\"prob\")"
   ]
  },
  {
   "cell_type": "code",
   "execution_count": 66,
   "id": "5de1c9d7",
   "metadata": {
    "vscode": {
     "languageId": "r"
    }
   },
   "outputs": [
    {
     "data": {
      "image/png": "[encoded data removed]",
      "text/plain": [
       "Plot with title \"Classification Tree\""
      ]
     },
     "metadata": {
      "image/png": {
       "height": 420,
       "width": 420
      }
     },
     "output_type": "display_data"
    }
   ],
   "source": [
    "fit.Tree.pred <-prediction( result.Tree4[,2], test[,20])\n",
    "fit.Tree.perf <- performance(fit.Tree.pred,\"tpr\",\"fpr\")\n",
    "plot( fit.Tree.perf,lwd=2,col=\"blue\", main=\"Classification Tree\")\n",
    "abline(a=0,b=1)"
   ]
  },
  {
   "cell_type": "code",
   "execution_count": 67,
   "id": "a0e1e503",
   "metadata": {
    "vscode": {
     "languageId": "r"
    }
   },
   "outputs": [
    {
     "data": {
      "text/html": [
       "0.681490264022768"
      ],
      "text/latex": [
       "0.681490264022768"
      ],
      "text/markdown": [
       "0.681490264022768"
      ],
      "text/plain": [
       "[1] 0.6814903"
      ]
     },
     "metadata": {},
     "output_type": "display_data"
    }
   ],
   "source": [
    "auc.Tree.tmp <- performance(fit.Tree.pred , \"auc\")\n",
    "auc.Tree <- as.numeric(auc.Tree.tmp@y.values)\n",
    "auc.Tree"
   ]
  }
 ],
 "metadata": {
  "kernelspec": {
   "display_name": "R",
   "language": "R",
   "name": "ir"
  },
  "language_info": {
   "codemirror_mode": "r",
   "file_extension": ".r",
   "mimetype": "text/x-r-source",
   "name": "R",
   "pygments_lexer": "r",
   "version": "4.2.1"
  }
 },
 "nbformat": 4,
 "nbformat_minor": 5
}
