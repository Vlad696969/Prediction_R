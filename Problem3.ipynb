{
 "cells": [
  {
   "cell_type": "markdown",
   "id": "942c6478",
   "metadata": {},
   "source": [
    "# Dataset"
   ]
  },
  {
   "cell_type": "code",
   "execution_count": 1,
   "id": "02b4261f",
   "metadata": {},
   "outputs": [],
   "source": [
    "train_test_new <- read.csv(\"train-test-new.csv\")"
   ]
  },
  {
   "cell_type": "code",
   "execution_count": 2,
   "id": "4c97eded",
   "metadata": {},
   "outputs": [
    {
     "data": {
      "text/html": [
       "<table>\n",
       "<thead><tr><th scope=col>age</th><th scope=col>job</th><th scope=col>marital</th><th scope=col>education</th><th scope=col>default</th><th scope=col>housing</th><th scope=col>loan</th><th scope=col>contact</th><th scope=col>month</th><th scope=col>day_of_week</th><th scope=col>campaign</th><th scope=col>pdays</th><th scope=col>previous</th><th scope=col>poutcome</th><th scope=col>emp.var.rate</th><th scope=col>cons.price.idx</th><th scope=col>cons.conf.idx</th><th scope=col>euribor3m</th><th scope=col>nr.employed</th><th scope=col>y</th></tr></thead>\n",
       "<tbody>\n",
       "\t<tr><td>56               </td><td>self-employed    </td><td>married          </td><td>university.degree</td><td>no               </td><td>yes              </td><td>no               </td><td>cellular         </td><td>nov              </td><td>wed              </td><td>1                </td><td>999              </td><td>0                </td><td>nonexistent      </td><td>-0.1             </td><td>93.200           </td><td>-42.0            </td><td>4.120            </td><td>5195.8           </td><td>no               </td></tr>\n",
       "\t<tr><td>57               </td><td>management       </td><td>married          </td><td>university.degree</td><td>no               </td><td>no               </td><td>no               </td><td>cellular         </td><td>jul              </td><td>tue              </td><td>1                </td><td>999              </td><td>0                </td><td>nonexistent      </td><td> 1.4             </td><td>93.918           </td><td>-42.7            </td><td>4.961            </td><td>5228.1           </td><td>no               </td></tr>\n",
       "\t<tr><td>36               </td><td>admin.           </td><td>married          </td><td>university.degree</td><td>no               </td><td>yes              </td><td>no               </td><td>telephone        </td><td>may              </td><td>fri              </td><td>2                </td><td>999              </td><td>0                </td><td>nonexistent      </td><td> 1.1             </td><td>93.994           </td><td>-36.4            </td><td>4.859            </td><td>5191.0           </td><td>no               </td></tr>\n",
       "\t<tr><td>45               </td><td>management       </td><td>married          </td><td>high.school      </td><td>unknown          </td><td>no               </td><td>no               </td><td>cellular         </td><td>aug              </td><td>wed              </td><td>2                </td><td>999              </td><td>0                </td><td>nonexistent      </td><td> 1.4             </td><td>93.444           </td><td>-36.1            </td><td>4.964            </td><td>5228.1           </td><td>no               </td></tr>\n",
       "\t<tr><td>39               </td><td>admin.           </td><td>single           </td><td>university.degree</td><td>no               </td><td>yes              </td><td>no               </td><td>cellular         </td><td>jul              </td><td>wed              </td><td>1                </td><td>999              </td><td>0                </td><td>nonexistent      </td><td> 1.4             </td><td>93.918           </td><td>-42.7            </td><td>4.963            </td><td>5228.1           </td><td>no               </td></tr>\n",
       "\t<tr><td>33               </td><td>services         </td><td>married          </td><td>high.school      </td><td>no               </td><td>no               </td><td>yes              </td><td>telephone        </td><td>may              </td><td>fri              </td><td>2                </td><td>999              </td><td>0                </td><td>nonexistent      </td><td> 1.1             </td><td>93.994           </td><td>-36.4            </td><td>4.859            </td><td>5191.0           </td><td>no               </td></tr>\n",
       "</tbody>\n",
       "</table>\n"
      ],
      "text/latex": [
       "\\begin{tabular}{r|llllllllllllllllllll}\n",
       " age & job & marital & education & default & housing & loan & contact & month & day\\_of\\_week & campaign & pdays & previous & poutcome & emp.var.rate & cons.price.idx & cons.conf.idx & euribor3m & nr.employed & y\\\\\n",
       "\\hline\n",
       "\t 56                & self-employed     & married           & university.degree & no                & yes               & no                & cellular          & nov               & wed               & 1                 & 999               & 0                 & nonexistent       & -0.1              & 93.200            & -42.0             & 4.120             & 5195.8            & no               \\\\\n",
       "\t 57                & management        & married           & university.degree & no                & no                & no                & cellular          & jul               & tue               & 1                 & 999               & 0                 & nonexistent       &  1.4              & 93.918            & -42.7             & 4.961             & 5228.1            & no               \\\\\n",
       "\t 36                & admin.            & married           & university.degree & no                & yes               & no                & telephone         & may               & fri               & 2                 & 999               & 0                 & nonexistent       &  1.1              & 93.994            & -36.4             & 4.859             & 5191.0            & no               \\\\\n",
       "\t 45                & management        & married           & high.school       & unknown           & no                & no                & cellular          & aug               & wed               & 2                 & 999               & 0                 & nonexistent       &  1.4              & 93.444            & -36.1             & 4.964             & 5228.1            & no               \\\\\n",
       "\t 39                & admin.            & single            & university.degree & no                & yes               & no                & cellular          & jul               & wed               & 1                 & 999               & 0                 & nonexistent       &  1.4              & 93.918            & -42.7             & 4.963             & 5228.1            & no               \\\\\n",
       "\t 33                & services          & married           & high.school       & no                & no                & yes               & telephone         & may               & fri               & 2                 & 999               & 0                 & nonexistent       &  1.1              & 93.994            & -36.4             & 4.859             & 5191.0            & no               \\\\\n",
       "\\end{tabular}\n"
      ],
      "text/markdown": [
       "\n",
       "| age | job | marital | education | default | housing | loan | contact | month | day_of_week | campaign | pdays | previous | poutcome | emp.var.rate | cons.price.idx | cons.conf.idx | euribor3m | nr.employed | y |\n",
       "|---|---|---|---|---|---|---|---|---|---|---|---|---|---|---|---|---|---|---|---|\n",
       "| 56                | self-employed     | married           | university.degree | no                | yes               | no                | cellular          | nov               | wed               | 1                 | 999               | 0                 | nonexistent       | -0.1              | 93.200            | -42.0             | 4.120             | 5195.8            | no                |\n",
       "| 57                | management        | married           | university.degree | no                | no                | no                | cellular          | jul               | tue               | 1                 | 999               | 0                 | nonexistent       |  1.4              | 93.918            | -42.7             | 4.961             | 5228.1            | no                |\n",
       "| 36                | admin.            | married           | university.degree | no                | yes               | no                | telephone         | may               | fri               | 2                 | 999               | 0                 | nonexistent       |  1.1              | 93.994            | -36.4             | 4.859             | 5191.0            | no                |\n",
       "| 45                | management        | married           | high.school       | unknown           | no                | no                | cellular          | aug               | wed               | 2                 | 999               | 0                 | nonexistent       |  1.4              | 93.444            | -36.1             | 4.964             | 5228.1            | no                |\n",
       "| 39                | admin.            | single            | university.degree | no                | yes               | no                | cellular          | jul               | wed               | 1                 | 999               | 0                 | nonexistent       |  1.4              | 93.918            | -42.7             | 4.963             | 5228.1            | no                |\n",
       "| 33                | services          | married           | high.school       | no                | no                | yes               | telephone         | may               | fri               | 2                 | 999               | 0                 | nonexistent       |  1.1              | 93.994            | -36.4             | 4.859             | 5191.0            | no                |\n",
       "\n"
      ],
      "text/plain": [
       "  age job           marital education         default housing loan contact  \n",
       "1 56  self-employed married university.degree no      yes     no   cellular \n",
       "2 57  management    married university.degree no      no      no   cellular \n",
       "3 36  admin.        married university.degree no      yes     no   telephone\n",
       "4 45  management    married high.school       unknown no      no   cellular \n",
       "5 39  admin.        single  university.degree no      yes     no   cellular \n",
       "6 33  services      married high.school       no      no      yes  telephone\n",
       "  month day_of_week campaign pdays previous poutcome    emp.var.rate\n",
       "1 nov   wed         1        999   0        nonexistent -0.1        \n",
       "2 jul   tue         1        999   0        nonexistent  1.4        \n",
       "3 may   fri         2        999   0        nonexistent  1.1        \n",
       "4 aug   wed         2        999   0        nonexistent  1.4        \n",
       "5 jul   wed         1        999   0        nonexistent  1.4        \n",
       "6 may   fri         2        999   0        nonexistent  1.1        \n",
       "  cons.price.idx cons.conf.idx euribor3m nr.employed y \n",
       "1 93.200         -42.0         4.120     5195.8      no\n",
       "2 93.918         -42.7         4.961     5228.1      no\n",
       "3 93.994         -36.4         4.859     5191.0      no\n",
       "4 93.444         -36.1         4.964     5228.1      no\n",
       "5 93.918         -42.7         4.963     5228.1      no\n",
       "6 93.994         -36.4         4.859     5191.0      no"
      ]
     },
     "metadata": {},
     "output_type": "display_data"
    }
   ],
   "source": [
    "head(train_test_new)"
   ]
  },
  {
   "cell_type": "code",
   "execution_count": 3,
   "id": "ab5cde38",
   "metadata": {},
   "outputs": [],
   "source": [
    "n <- length(train_test_new[,1])\n",
    "y.class <- rep(0,n)"
   ]
  },
  {
   "cell_type": "code",
   "execution_count": 4,
   "id": "4ecf9f18",
   "metadata": {},
   "outputs": [],
   "source": [
    "for (i in 1:n){\n",
    "    if (train_test_new[i, 20] == \"yes\"){\n",
    "        y.class[i] <- 1\n",
    "    }\n",
    "}"
   ]
  },
  {
   "cell_type": "code",
   "execution_count": 5,
   "id": "9bf76879",
   "metadata": {},
   "outputs": [
    {
     "data": {
      "text/html": [
       "<table>\n",
       "<thead><tr><th scope=col>age</th><th scope=col>job</th><th scope=col>marital</th><th scope=col>education</th><th scope=col>default</th><th scope=col>housing</th><th scope=col>loan</th><th scope=col>contact</th><th scope=col>month</th><th scope=col>day_of_week</th><th scope=col>campaign</th><th scope=col>pdays</th><th scope=col>previous</th><th scope=col>poutcome</th><th scope=col>emp.var.rate</th><th scope=col>cons.price.idx</th><th scope=col>cons.conf.idx</th><th scope=col>euribor3m</th><th scope=col>nr.employed</th><th scope=col>y.class</th></tr></thead>\n",
       "<tbody>\n",
       "\t<tr><td>56               </td><td>self-employed    </td><td>married          </td><td>university.degree</td><td>no               </td><td>yes              </td><td>no               </td><td>cellular         </td><td>nov              </td><td>wed              </td><td>1                </td><td>999              </td><td>0                </td><td>nonexistent      </td><td>-0.1             </td><td>93.200           </td><td>-42.0            </td><td>4.120            </td><td>5195.8           </td><td>0                </td></tr>\n",
       "\t<tr><td>57               </td><td>management       </td><td>married          </td><td>university.degree</td><td>no               </td><td>no               </td><td>no               </td><td>cellular         </td><td>jul              </td><td>tue              </td><td>1                </td><td>999              </td><td>0                </td><td>nonexistent      </td><td> 1.4             </td><td>93.918           </td><td>-42.7            </td><td>4.961            </td><td>5228.1           </td><td>0                </td></tr>\n",
       "\t<tr><td>36               </td><td>admin.           </td><td>married          </td><td>university.degree</td><td>no               </td><td>yes              </td><td>no               </td><td>telephone        </td><td>may              </td><td>fri              </td><td>2                </td><td>999              </td><td>0                </td><td>nonexistent      </td><td> 1.1             </td><td>93.994           </td><td>-36.4            </td><td>4.859            </td><td>5191.0           </td><td>0                </td></tr>\n",
       "\t<tr><td>45               </td><td>management       </td><td>married          </td><td>high.school      </td><td>unknown          </td><td>no               </td><td>no               </td><td>cellular         </td><td>aug              </td><td>wed              </td><td>2                </td><td>999              </td><td>0                </td><td>nonexistent      </td><td> 1.4             </td><td>93.444           </td><td>-36.1            </td><td>4.964            </td><td>5228.1           </td><td>0                </td></tr>\n",
       "\t<tr><td>39               </td><td>admin.           </td><td>single           </td><td>university.degree</td><td>no               </td><td>yes              </td><td>no               </td><td>cellular         </td><td>jul              </td><td>wed              </td><td>1                </td><td>999              </td><td>0                </td><td>nonexistent      </td><td> 1.4             </td><td>93.918           </td><td>-42.7            </td><td>4.963            </td><td>5228.1           </td><td>0                </td></tr>\n",
       "\t<tr><td>33               </td><td>services         </td><td>married          </td><td>high.school      </td><td>no               </td><td>no               </td><td>yes              </td><td>telephone        </td><td>may              </td><td>fri              </td><td>2                </td><td>999              </td><td>0                </td><td>nonexistent      </td><td> 1.1             </td><td>93.994           </td><td>-36.4            </td><td>4.859            </td><td>5191.0           </td><td>0                </td></tr>\n",
       "</tbody>\n",
       "</table>\n"
      ],
      "text/latex": [
       "\\begin{tabular}{r|llllllllllllllllllll}\n",
       " age & job & marital & education & default & housing & loan & contact & month & day\\_of\\_week & campaign & pdays & previous & poutcome & emp.var.rate & cons.price.idx & cons.conf.idx & euribor3m & nr.employed & y.class\\\\\n",
       "\\hline\n",
       "\t 56                & self-employed     & married           & university.degree & no                & yes               & no                & cellular          & nov               & wed               & 1                 & 999               & 0                 & nonexistent       & -0.1              & 93.200            & -42.0             & 4.120             & 5195.8            & 0                \\\\\n",
       "\t 57                & management        & married           & university.degree & no                & no                & no                & cellular          & jul               & tue               & 1                 & 999               & 0                 & nonexistent       &  1.4              & 93.918            & -42.7             & 4.961             & 5228.1            & 0                \\\\\n",
       "\t 36                & admin.            & married           & university.degree & no                & yes               & no                & telephone         & may               & fri               & 2                 & 999               & 0                 & nonexistent       &  1.1              & 93.994            & -36.4             & 4.859             & 5191.0            & 0                \\\\\n",
       "\t 45                & management        & married           & high.school       & unknown           & no                & no                & cellular          & aug               & wed               & 2                 & 999               & 0                 & nonexistent       &  1.4              & 93.444            & -36.1             & 4.964             & 5228.1            & 0                \\\\\n",
       "\t 39                & admin.            & single            & university.degree & no                & yes               & no                & cellular          & jul               & wed               & 1                 & 999               & 0                 & nonexistent       &  1.4              & 93.918            & -42.7             & 4.963             & 5228.1            & 0                \\\\\n",
       "\t 33                & services          & married           & high.school       & no                & no                & yes               & telephone         & may               & fri               & 2                 & 999               & 0                 & nonexistent       &  1.1              & 93.994            & -36.4             & 4.859             & 5191.0            & 0                \\\\\n",
       "\\end{tabular}\n"
      ],
      "text/markdown": [
       "\n",
       "| age | job | marital | education | default | housing | loan | contact | month | day_of_week | campaign | pdays | previous | poutcome | emp.var.rate | cons.price.idx | cons.conf.idx | euribor3m | nr.employed | y.class |\n",
       "|---|---|---|---|---|---|---|---|---|---|---|---|---|---|---|---|---|---|---|---|\n",
       "| 56                | self-employed     | married           | university.degree | no                | yes               | no                | cellular          | nov               | wed               | 1                 | 999               | 0                 | nonexistent       | -0.1              | 93.200            | -42.0             | 4.120             | 5195.8            | 0                 |\n",
       "| 57                | management        | married           | university.degree | no                | no                | no                | cellular          | jul               | tue               | 1                 | 999               | 0                 | nonexistent       |  1.4              | 93.918            | -42.7             | 4.961             | 5228.1            | 0                 |\n",
       "| 36                | admin.            | married           | university.degree | no                | yes               | no                | telephone         | may               | fri               | 2                 | 999               | 0                 | nonexistent       |  1.1              | 93.994            | -36.4             | 4.859             | 5191.0            | 0                 |\n",
       "| 45                | management        | married           | high.school       | unknown           | no                | no                | cellular          | aug               | wed               | 2                 | 999               | 0                 | nonexistent       |  1.4              | 93.444            | -36.1             | 4.964             | 5228.1            | 0                 |\n",
       "| 39                | admin.            | single            | university.degree | no                | yes               | no                | cellular          | jul               | wed               | 1                 | 999               | 0                 | nonexistent       |  1.4              | 93.918            | -42.7             | 4.963             | 5228.1            | 0                 |\n",
       "| 33                | services          | married           | high.school       | no                | no                | yes               | telephone         | may               | fri               | 2                 | 999               | 0                 | nonexistent       |  1.1              | 93.994            | -36.4             | 4.859             | 5191.0            | 0                 |\n",
       "\n"
      ],
      "text/plain": [
       "  age job           marital education         default housing loan contact  \n",
       "1 56  self-employed married university.degree no      yes     no   cellular \n",
       "2 57  management    married university.degree no      no      no   cellular \n",
       "3 36  admin.        married university.degree no      yes     no   telephone\n",
       "4 45  management    married high.school       unknown no      no   cellular \n",
       "5 39  admin.        single  university.degree no      yes     no   cellular \n",
       "6 33  services      married high.school       no      no      yes  telephone\n",
       "  month day_of_week campaign pdays previous poutcome    emp.var.rate\n",
       "1 nov   wed         1        999   0        nonexistent -0.1        \n",
       "2 jul   tue         1        999   0        nonexistent  1.4        \n",
       "3 may   fri         2        999   0        nonexistent  1.1        \n",
       "4 aug   wed         2        999   0        nonexistent  1.4        \n",
       "5 jul   wed         1        999   0        nonexistent  1.4        \n",
       "6 may   fri         2        999   0        nonexistent  1.1        \n",
       "  cons.price.idx cons.conf.idx euribor3m nr.employed y.class\n",
       "1 93.200         -42.0         4.120     5195.8      0      \n",
       "2 93.918         -42.7         4.961     5228.1      0      \n",
       "3 93.994         -36.4         4.859     5191.0      0      \n",
       "4 93.444         -36.1         4.964     5228.1      0      \n",
       "5 93.918         -42.7         4.963     5228.1      0      \n",
       "6 93.994         -36.4         4.859     5191.0      0      "
      ]
     },
     "metadata": {},
     "output_type": "display_data"
    }
   ],
   "source": [
    "train_test_all <- cbind(train_test_new[,1:19], y.class)\n",
    "head(train_test_all)"
   ]
  },
  {
   "cell_type": "code",
   "execution_count": 6,
   "id": "4761a29c",
   "metadata": {},
   "outputs": [],
   "source": [
    "train <- train_test_all[1:7500,]\n",
    "test <- train_test_all[7501:10000,]"
   ]
  },
  {
   "cell_type": "code",
   "execution_count": 7,
   "id": "ab0a901d",
   "metadata": {},
   "outputs": [
    {
     "data": {
      "text/html": [
       "<table>\n",
       "<thead><tr><th scope=col>age</th><th scope=col>job</th><th scope=col>marital</th><th scope=col>education</th><th scope=col>default</th><th scope=col>housing</th><th scope=col>loan</th><th scope=col>contact</th><th scope=col>month</th><th scope=col>day_of_week</th><th scope=col>campaign</th><th scope=col>pdays</th><th scope=col>previous</th><th scope=col>poutcome</th><th scope=col>emp.var.rate</th><th scope=col>cons.price.idx</th><th scope=col>cons.conf.idx</th><th scope=col>euribor3m</th><th scope=col>nr.employed</th><th scope=col>y.class</th></tr></thead>\n",
       "<tbody>\n",
       "\t<tr><td>56               </td><td>self-employed    </td><td>married          </td><td>university.degree</td><td>no               </td><td>yes              </td><td>no               </td><td>cellular         </td><td>nov              </td><td>wed              </td><td>1                </td><td>999              </td><td>0                </td><td>nonexistent      </td><td>-0.1             </td><td>93.200           </td><td>-42.0            </td><td>4.120            </td><td>5195.8           </td><td>0                </td></tr>\n",
       "\t<tr><td>57               </td><td>management       </td><td>married          </td><td>university.degree</td><td>no               </td><td>no               </td><td>no               </td><td>cellular         </td><td>jul              </td><td>tue              </td><td>1                </td><td>999              </td><td>0                </td><td>nonexistent      </td><td> 1.4             </td><td>93.918           </td><td>-42.7            </td><td>4.961            </td><td>5228.1           </td><td>0                </td></tr>\n",
       "\t<tr><td>36               </td><td>admin.           </td><td>married          </td><td>university.degree</td><td>no               </td><td>yes              </td><td>no               </td><td>telephone        </td><td>may              </td><td>fri              </td><td>2                </td><td>999              </td><td>0                </td><td>nonexistent      </td><td> 1.1             </td><td>93.994           </td><td>-36.4            </td><td>4.859            </td><td>5191.0           </td><td>0                </td></tr>\n",
       "\t<tr><td>45               </td><td>management       </td><td>married          </td><td>high.school      </td><td>unknown          </td><td>no               </td><td>no               </td><td>cellular         </td><td>aug              </td><td>wed              </td><td>2                </td><td>999              </td><td>0                </td><td>nonexistent      </td><td> 1.4             </td><td>93.444           </td><td>-36.1            </td><td>4.964            </td><td>5228.1           </td><td>0                </td></tr>\n",
       "\t<tr><td>39               </td><td>admin.           </td><td>single           </td><td>university.degree</td><td>no               </td><td>yes              </td><td>no               </td><td>cellular         </td><td>jul              </td><td>wed              </td><td>1                </td><td>999              </td><td>0                </td><td>nonexistent      </td><td> 1.4             </td><td>93.918           </td><td>-42.7            </td><td>4.963            </td><td>5228.1           </td><td>0                </td></tr>\n",
       "\t<tr><td>33               </td><td>services         </td><td>married          </td><td>high.school      </td><td>no               </td><td>no               </td><td>yes              </td><td>telephone        </td><td>may              </td><td>fri              </td><td>2                </td><td>999              </td><td>0                </td><td>nonexistent      </td><td> 1.1             </td><td>93.994           </td><td>-36.4            </td><td>4.859            </td><td>5191.0           </td><td>0                </td></tr>\n",
       "</tbody>\n",
       "</table>\n"
      ],
      "text/latex": [
       "\\begin{tabular}{r|llllllllllllllllllll}\n",
       " age & job & marital & education & default & housing & loan & contact & month & day\\_of\\_week & campaign & pdays & previous & poutcome & emp.var.rate & cons.price.idx & cons.conf.idx & euribor3m & nr.employed & y.class\\\\\n",
       "\\hline\n",
       "\t 56                & self-employed     & married           & university.degree & no                & yes               & no                & cellular          & nov               & wed               & 1                 & 999               & 0                 & nonexistent       & -0.1              & 93.200            & -42.0             & 4.120             & 5195.8            & 0                \\\\\n",
       "\t 57                & management        & married           & university.degree & no                & no                & no                & cellular          & jul               & tue               & 1                 & 999               & 0                 & nonexistent       &  1.4              & 93.918            & -42.7             & 4.961             & 5228.1            & 0                \\\\\n",
       "\t 36                & admin.            & married           & university.degree & no                & yes               & no                & telephone         & may               & fri               & 2                 & 999               & 0                 & nonexistent       &  1.1              & 93.994            & -36.4             & 4.859             & 5191.0            & 0                \\\\\n",
       "\t 45                & management        & married           & high.school       & unknown           & no                & no                & cellular          & aug               & wed               & 2                 & 999               & 0                 & nonexistent       &  1.4              & 93.444            & -36.1             & 4.964             & 5228.1            & 0                \\\\\n",
       "\t 39                & admin.            & single            & university.degree & no                & yes               & no                & cellular          & jul               & wed               & 1                 & 999               & 0                 & nonexistent       &  1.4              & 93.918            & -42.7             & 4.963             & 5228.1            & 0                \\\\\n",
       "\t 33                & services          & married           & high.school       & no                & no                & yes               & telephone         & may               & fri               & 2                 & 999               & 0                 & nonexistent       &  1.1              & 93.994            & -36.4             & 4.859             & 5191.0            & 0                \\\\\n",
       "\\end{tabular}\n"
      ],
      "text/markdown": [
       "\n",
       "| age | job | marital | education | default | housing | loan | contact | month | day_of_week | campaign | pdays | previous | poutcome | emp.var.rate | cons.price.idx | cons.conf.idx | euribor3m | nr.employed | y.class |\n",
       "|---|---|---|---|---|---|---|---|---|---|---|---|---|---|---|---|---|---|---|---|\n",
       "| 56                | self-employed     | married           | university.degree | no                | yes               | no                | cellular          | nov               | wed               | 1                 | 999               | 0                 | nonexistent       | -0.1              | 93.200            | -42.0             | 4.120             | 5195.8            | 0                 |\n",
       "| 57                | management        | married           | university.degree | no                | no                | no                | cellular          | jul               | tue               | 1                 | 999               | 0                 | nonexistent       |  1.4              | 93.918            | -42.7             | 4.961             | 5228.1            | 0                 |\n",
       "| 36                | admin.            | married           | university.degree | no                | yes               | no                | telephone         | may               | fri               | 2                 | 999               | 0                 | nonexistent       |  1.1              | 93.994            | -36.4             | 4.859             | 5191.0            | 0                 |\n",
       "| 45                | management        | married           | high.school       | unknown           | no                | no                | cellular          | aug               | wed               | 2                 | 999               | 0                 | nonexistent       |  1.4              | 93.444            | -36.1             | 4.964             | 5228.1            | 0                 |\n",
       "| 39                | admin.            | single            | university.degree | no                | yes               | no                | cellular          | jul               | wed               | 1                 | 999               | 0                 | nonexistent       |  1.4              | 93.918            | -42.7             | 4.963             | 5228.1            | 0                 |\n",
       "| 33                | services          | married           | high.school       | no                | no                | yes               | telephone         | may               | fri               | 2                 | 999               | 0                 | nonexistent       |  1.1              | 93.994            | -36.4             | 4.859             | 5191.0            | 0                 |\n",
       "\n"
      ],
      "text/plain": [
       "  age job           marital education         default housing loan contact  \n",
       "1 56  self-employed married university.degree no      yes     no   cellular \n",
       "2 57  management    married university.degree no      no      no   cellular \n",
       "3 36  admin.        married university.degree no      yes     no   telephone\n",
       "4 45  management    married high.school       unknown no      no   cellular \n",
       "5 39  admin.        single  university.degree no      yes     no   cellular \n",
       "6 33  services      married high.school       no      no      yes  telephone\n",
       "  month day_of_week campaign pdays previous poutcome    emp.var.rate\n",
       "1 nov   wed         1        999   0        nonexistent -0.1        \n",
       "2 jul   tue         1        999   0        nonexistent  1.4        \n",
       "3 may   fri         2        999   0        nonexistent  1.1        \n",
       "4 aug   wed         2        999   0        nonexistent  1.4        \n",
       "5 jul   wed         1        999   0        nonexistent  1.4        \n",
       "6 may   fri         2        999   0        nonexistent  1.1        \n",
       "  cons.price.idx cons.conf.idx euribor3m nr.employed y.class\n",
       "1 93.200         -42.0         4.120     5195.8      0      \n",
       "2 93.918         -42.7         4.961     5228.1      0      \n",
       "3 93.994         -36.4         4.859     5191.0      0      \n",
       "4 93.444         -36.1         4.964     5228.1      0      \n",
       "5 93.918         -42.7         4.963     5228.1      0      \n",
       "6 93.994         -36.4         4.859     5191.0      0      "
      ]
     },
     "metadata": {},
     "output_type": "display_data"
    }
   ],
   "source": [
    "head(train)"
   ]
  },
  {
   "cell_type": "markdown",
   "id": "c1b63aa2",
   "metadata": {},
   "source": [
    "# Logistic Regression"
   ]
  },
  {
   "cell_type": "code",
   "execution_count": 31,
   "id": "e8e42283",
   "metadata": {},
   "outputs": [],
   "source": [
    "result.LR1 <- glm(y.class~., data=train, family=binomial)"
   ]
  },
  {
   "cell_type": "code",
   "execution_count": 32,
   "id": "2ccc445f",
   "metadata": {},
   "outputs": [
    {
     "data": {
      "text/plain": [
       "\n",
       "Call:\n",
       "glm(formula = y.class ~ ., family = binomial, data = train)\n",
       "\n",
       "Deviance Residuals: \n",
       "    Min       1Q   Median       3Q      Max  \n",
       "-2.0651  -0.3934  -0.3185  -0.2565   2.8422  \n",
       "\n",
       "Coefficients: (1 not defined because of singularities)\n",
       "                               Estimate Std. Error z value Pr(>|z|)    \n",
       "(Intercept)                  -1.528e+02  7.968e+01  -1.917 0.055233 .  \n",
       "age                          -6.505e-03  4.932e-03  -1.319 0.187193    \n",
       "jobblue-collar                5.451e-02  1.651e-01   0.330 0.741259    \n",
       "jobentrepreneur               2.549e-01  2.384e-01   1.069 0.284883    \n",
       "jobhousemaid                  3.099e-01  2.753e-01   1.126 0.260274    \n",
       "jobmanagement                 1.883e-01  1.779e-01   1.058 0.289858    \n",
       "jobretired                    5.812e-01  2.189e-01   2.655 0.007941 ** \n",
       "jobself-employed             -3.015e-01  2.787e-01  -1.082 0.279333    \n",
       "jobservices                  -1.910e-02  1.774e-01  -0.108 0.914231    \n",
       "jobstudent                    6.572e-02  2.519e-01   0.261 0.794184    \n",
       "jobtechnician                 2.343e-01  1.478e-01   1.586 0.112804    \n",
       "jobunemployed                 4.820e-02  2.488e-01   0.194 0.846383    \n",
       "jobunknown                    7.819e-02  4.351e-01   0.180 0.857397    \n",
       "maritalmarried                1.889e-01  1.456e-01   1.298 0.194385    \n",
       "maritalsingle                 9.063e-02  1.659e-01   0.546 0.584938    \n",
       "maritalunknown                1.022e+00  7.905e-01   1.293 0.195992    \n",
       "educationbasic.6y             1.390e-01  2.396e-01   0.580 0.561666    \n",
       "educationbasic.9y            -1.087e-01  1.996e-01  -0.545 0.585914    \n",
       "educationhigh.school          1.525e-01  1.906e-01   0.800 0.423672    \n",
       "educationilliterate           1.129e+00  9.013e-01   1.252 0.210473    \n",
       "educationprofessional.course  1.169e-01  2.095e-01   0.558 0.576864    \n",
       "educationuniversity.degree    1.958e-01  1.910e-01   1.025 0.305256    \n",
       "educationunknown              2.144e-01  2.465e-01   0.870 0.384400    \n",
       "defaultunknown               -1.173e-01  1.339e-01  -0.876 0.381233    \n",
       "defaultyes                   -8.687e+00  1.970e+02  -0.044 0.964823    \n",
       "housingunknown                3.065e-01  2.581e-01   1.187 0.235070    \n",
       "housingyes                   -1.331e-01  8.560e-02  -1.554 0.120104    \n",
       "loanunknown                          NA         NA      NA       NA    \n",
       "loanyes                      -9.707e-02  1.198e-01  -0.810 0.417879    \n",
       "contacttelephone             -5.867e-01  1.610e-01  -3.644 0.000269 ***\n",
       "monthaug                     -4.684e-02  2.521e-01  -0.186 0.852566    \n",
       "monthdec                     -6.459e-02  4.416e-01  -0.146 0.883722    \n",
       "monthjul                     -6.263e-02  1.991e-01  -0.315 0.753080    \n",
       "monthjun                     -5.448e-01  2.664e-01  -2.045 0.040831 *  \n",
       "monthmar                      1.107e+00  3.038e-01   3.642 0.000270 ***\n",
       "monthmay                     -7.721e-01  1.728e-01  -4.469 7.84e-06 ***\n",
       "monthnov                     -5.144e-01  2.468e-01  -2.085 0.037112 *  \n",
       "monthoct                     -2.980e-01  3.221e-01  -0.925 0.354793    \n",
       "monthsep                     -3.669e-01  3.693e-01  -0.993 0.320477    \n",
       "day_of_weekmon               -2.617e-01  1.372e-01  -1.907 0.056508 .  \n",
       "day_of_weekthu                1.804e-01  1.290e-01   1.398 0.162139    \n",
       "day_of_weektue                7.061e-02  1.354e-01   0.521 0.602160    \n",
       "day_of_weekwed                1.307e-01  1.343e-01   0.973 0.330327    \n",
       "campaign                     -2.097e-02  2.126e-02  -0.987 0.323806    \n",
       "pdays                        -8.797e-04  4.283e-04  -2.054 0.040003 *  \n",
       "previous                      6.235e-02  1.398e-01   0.446 0.655737    \n",
       "poutcomenonexistent           6.775e-01  2.155e-01   3.143 0.001670 ** \n",
       "poutcomesuccess               1.256e+00  4.255e-01   2.951 0.003166 ** \n",
       "emp.var.rate                 -1.079e+00  2.948e-01  -3.661 0.000251 ***\n",
       "cons.price.idx                1.441e+00  5.255e-01   2.742 0.006103 ** \n",
       "cons.conf.idx                 4.066e-02  1.682e-02   2.418 0.015624 *  \n",
       "euribor3m                     8.892e-02  2.711e-01   0.328 0.742950    \n",
       "nr.employed                   3.415e-03  6.471e-03   0.528 0.597720    \n",
       "---\n",
       "Signif. codes:  0 '***' 0.001 '**' 0.01 '*' 0.05 '.' 0.1 ' ' 1\n",
       "\n",
       "(Dispersion parameter for binomial family taken to be 1)\n",
       "\n",
       "    Null deviance: 5181.0  on 7499  degrees of freedom\n",
       "Residual deviance: 4091.5  on 7448  degrees of freedom\n",
       "AIC: 4195.5\n",
       "\n",
       "Number of Fisher Scoring iterations: 10\n"
      ]
     },
     "metadata": {},
     "output_type": "display_data"
    }
   ],
   "source": [
    "summary(result.LR1)"
   ]
  },
  {
   "cell_type": "code",
   "execution_count": 33,
   "id": "4e72eb9c",
   "metadata": {},
   "outputs": [
    {
     "name": "stderr",
     "output_type": "stream",
     "text": [
      "Warning message in predict.lm(object, newdata, se.fit, scale = 1, type = if (type == :\n",
      "\"prediction from a rank-deficient fit may be misleading\""
     ]
    }
   ],
   "source": [
    "# Use the model to predict y on the test set\n",
    "result.LR2<-predict(result.LR1,newdata=test, type=\"response\")"
   ]
  },
  {
   "cell_type": "code",
   "execution_count": 13,
   "id": "6f84577b",
   "metadata": {},
   "outputs": [
    {
     "name": "stdout",
     "output_type": "stream",
     "text": [
      "package 'ROCR' successfully unpacked and MD5 sums checked\n",
      "\n",
      "The downloaded binary packages are in\n",
      "\tC:\\Users\\jean-\\AppData\\Local\\Temp\\Rtmp4cLsAA\\downloaded_packages\n"
     ]
    }
   ],
   "source": [
    "install.packages(\"ROCR\")"
   ]
  },
  {
   "cell_type": "code",
   "execution_count": 34,
   "id": "ac267151",
   "metadata": {},
   "outputs": [
    {
     "data": {
      "image/png": "[encoded data removed]",
      "text/plain": [
       "Plot with title \"LR\""
      ]
     },
     "metadata": {},
     "output_type": "display_data"
    }
   ],
   "source": [
    "library(\"ROCR\")\n",
    "fit.LR.pred <-prediction( result.LR2, test[,20])\n",
    "fit.LR.perf <- performance(fit.LR.pred,\"tpr\",\"fpr\")\n",
    "plot( fit.LR.perf,lwd=2,col=\"blue\", main=\"LR\")\n",
    "abline(a=0,b=1)"
   ]
  },
  {
   "cell_type": "code",
   "execution_count": 35,
   "id": "039631e5",
   "metadata": {},
   "outputs": [
    {
     "data": {
      "text/html": [
       "0.787506048987478"
      ],
      "text/latex": [
       "0.787506048987478"
      ],
      "text/markdown": [
       "0.787506048987478"
      ],
      "text/plain": [
       "[1] 0.787506"
      ]
     },
     "metadata": {},
     "output_type": "display_data"
    }
   ],
   "source": [
    "auc.LR.tmp <- performance(fit.LR.pred, \"auc\")\n",
    "auc.LR <- as.numeric(auc.LR.tmp@y.values)\n",
    "auc.LR"
   ]
  },
  {
   "cell_type": "markdown",
   "id": "96064da4",
   "metadata": {},
   "source": [
    "# Random Forest"
   ]
  },
  {
   "cell_type": "code",
   "execution_count": 19,
   "id": "ecb781f7",
   "metadata": {},
   "outputs": [
    {
     "data": {
      "text/html": [
       "<table>\n",
       "<thead><tr><th scope=col>age</th><th scope=col>job</th><th scope=col>marital</th><th scope=col>education</th><th scope=col>default</th><th scope=col>housing</th><th scope=col>loan</th><th scope=col>contact</th><th scope=col>month</th><th scope=col>day_of_week</th><th scope=col>campaign</th><th scope=col>pdays</th><th scope=col>previous</th><th scope=col>poutcome</th><th scope=col>emp.var.rate</th><th scope=col>cons.price.idx</th><th scope=col>cons.conf.idx</th><th scope=col>euribor3m</th><th scope=col>nr.employed</th><th scope=col>y.class</th></tr></thead>\n",
       "<tbody>\n",
       "\t<tr><td>56               </td><td>self-employed    </td><td>married          </td><td>university.degree</td><td>no               </td><td>yes              </td><td>no               </td><td>cellular         </td><td>nov              </td><td>wed              </td><td>1                </td><td>999              </td><td>0                </td><td>nonexistent      </td><td>-0.1             </td><td>93.200           </td><td>-42.0            </td><td>4.120            </td><td>5195.8           </td><td>0                </td></tr>\n",
       "\t<tr><td>57               </td><td>management       </td><td>married          </td><td>university.degree</td><td>no               </td><td>no               </td><td>no               </td><td>cellular         </td><td>jul              </td><td>tue              </td><td>1                </td><td>999              </td><td>0                </td><td>nonexistent      </td><td> 1.4             </td><td>93.918           </td><td>-42.7            </td><td>4.961            </td><td>5228.1           </td><td>0                </td></tr>\n",
       "\t<tr><td>36               </td><td>admin.           </td><td>married          </td><td>university.degree</td><td>no               </td><td>yes              </td><td>no               </td><td>telephone        </td><td>may              </td><td>fri              </td><td>2                </td><td>999              </td><td>0                </td><td>nonexistent      </td><td> 1.1             </td><td>93.994           </td><td>-36.4            </td><td>4.859            </td><td>5191.0           </td><td>0                </td></tr>\n",
       "\t<tr><td>45               </td><td>management       </td><td>married          </td><td>high.school      </td><td>unknown          </td><td>no               </td><td>no               </td><td>cellular         </td><td>aug              </td><td>wed              </td><td>2                </td><td>999              </td><td>0                </td><td>nonexistent      </td><td> 1.4             </td><td>93.444           </td><td>-36.1            </td><td>4.964            </td><td>5228.1           </td><td>0                </td></tr>\n",
       "\t<tr><td>39               </td><td>admin.           </td><td>single           </td><td>university.degree</td><td>no               </td><td>yes              </td><td>no               </td><td>cellular         </td><td>jul              </td><td>wed              </td><td>1                </td><td>999              </td><td>0                </td><td>nonexistent      </td><td> 1.4             </td><td>93.918           </td><td>-42.7            </td><td>4.963            </td><td>5228.1           </td><td>0                </td></tr>\n",
       "\t<tr><td>33               </td><td>services         </td><td>married          </td><td>high.school      </td><td>no               </td><td>no               </td><td>yes              </td><td>telephone        </td><td>may              </td><td>fri              </td><td>2                </td><td>999              </td><td>0                </td><td>nonexistent      </td><td> 1.1             </td><td>93.994           </td><td>-36.4            </td><td>4.859            </td><td>5191.0           </td><td>0                </td></tr>\n",
       "</tbody>\n",
       "</table>\n"
      ],
      "text/latex": [
       "\\begin{tabular}{r|llllllllllllllllllll}\n",
       " age & job & marital & education & default & housing & loan & contact & month & day\\_of\\_week & campaign & pdays & previous & poutcome & emp.var.rate & cons.price.idx & cons.conf.idx & euribor3m & nr.employed & y.class\\\\\n",
       "\\hline\n",
       "\t 56                & self-employed     & married           & university.degree & no                & yes               & no                & cellular          & nov               & wed               & 1                 & 999               & 0                 & nonexistent       & -0.1              & 93.200            & -42.0             & 4.120             & 5195.8            & 0                \\\\\n",
       "\t 57                & management        & married           & university.degree & no                & no                & no                & cellular          & jul               & tue               & 1                 & 999               & 0                 & nonexistent       &  1.4              & 93.918            & -42.7             & 4.961             & 5228.1            & 0                \\\\\n",
       "\t 36                & admin.            & married           & university.degree & no                & yes               & no                & telephone         & may               & fri               & 2                 & 999               & 0                 & nonexistent       &  1.1              & 93.994            & -36.4             & 4.859             & 5191.0            & 0                \\\\\n",
       "\t 45                & management        & married           & high.school       & unknown           & no                & no                & cellular          & aug               & wed               & 2                 & 999               & 0                 & nonexistent       &  1.4              & 93.444            & -36.1             & 4.964             & 5228.1            & 0                \\\\\n",
       "\t 39                & admin.            & single            & university.degree & no                & yes               & no                & cellular          & jul               & wed               & 1                 & 999               & 0                 & nonexistent       &  1.4              & 93.918            & -42.7             & 4.963             & 5228.1            & 0                \\\\\n",
       "\t 33                & services          & married           & high.school       & no                & no                & yes               & telephone         & may               & fri               & 2                 & 999               & 0                 & nonexistent       &  1.1              & 93.994            & -36.4             & 4.859             & 5191.0            & 0                \\\\\n",
       "\\end{tabular}\n"
      ],
      "text/markdown": [
       "\n",
       "| age | job | marital | education | default | housing | loan | contact | month | day_of_week | campaign | pdays | previous | poutcome | emp.var.rate | cons.price.idx | cons.conf.idx | euribor3m | nr.employed | y.class |\n",
       "|---|---|---|---|---|---|---|---|---|---|---|---|---|---|---|---|---|---|---|---|\n",
       "| 56                | self-employed     | married           | university.degree | no                | yes               | no                | cellular          | nov               | wed               | 1                 | 999               | 0                 | nonexistent       | -0.1              | 93.200            | -42.0             | 4.120             | 5195.8            | 0                 |\n",
       "| 57                | management        | married           | university.degree | no                | no                | no                | cellular          | jul               | tue               | 1                 | 999               | 0                 | nonexistent       |  1.4              | 93.918            | -42.7             | 4.961             | 5228.1            | 0                 |\n",
       "| 36                | admin.            | married           | university.degree | no                | yes               | no                | telephone         | may               | fri               | 2                 | 999               | 0                 | nonexistent       |  1.1              | 93.994            | -36.4             | 4.859             | 5191.0            | 0                 |\n",
       "| 45                | management        | married           | high.school       | unknown           | no                | no                | cellular          | aug               | wed               | 2                 | 999               | 0                 | nonexistent       |  1.4              | 93.444            | -36.1             | 4.964             | 5228.1            | 0                 |\n",
       "| 39                | admin.            | single            | university.degree | no                | yes               | no                | cellular          | jul               | wed               | 1                 | 999               | 0                 | nonexistent       |  1.4              | 93.918            | -42.7             | 4.963             | 5228.1            | 0                 |\n",
       "| 33                | services          | married           | high.school       | no                | no                | yes               | telephone         | may               | fri               | 2                 | 999               | 0                 | nonexistent       |  1.1              | 93.994            | -36.4             | 4.859             | 5191.0            | 0                 |\n",
       "\n"
      ],
      "text/plain": [
       "  age job           marital education         default housing loan contact  \n",
       "1 56  self-employed married university.degree no      yes     no   cellular \n",
       "2 57  management    married university.degree no      no      no   cellular \n",
       "3 36  admin.        married university.degree no      yes     no   telephone\n",
       "4 45  management    married high.school       unknown no      no   cellular \n",
       "5 39  admin.        single  university.degree no      yes     no   cellular \n",
       "6 33  services      married high.school       no      no      yes  telephone\n",
       "  month day_of_week campaign pdays previous poutcome    emp.var.rate\n",
       "1 nov   wed         1        999   0        nonexistent -0.1        \n",
       "2 jul   tue         1        999   0        nonexistent  1.4        \n",
       "3 may   fri         2        999   0        nonexistent  1.1        \n",
       "4 aug   wed         2        999   0        nonexistent  1.4        \n",
       "5 jul   wed         1        999   0        nonexistent  1.4        \n",
       "6 may   fri         2        999   0        nonexistent  1.1        \n",
       "  cons.price.idx cons.conf.idx euribor3m nr.employed y.class\n",
       "1 93.200         -42.0         4.120     5195.8      0      \n",
       "2 93.918         -42.7         4.961     5228.1      0      \n",
       "3 93.994         -36.4         4.859     5191.0      0      \n",
       "4 93.444         -36.1         4.964     5228.1      0      \n",
       "5 93.918         -42.7         4.963     5228.1      0      \n",
       "6 93.994         -36.4         4.859     5191.0      0      "
      ]
     },
     "metadata": {},
     "output_type": "display_data"
    }
   ],
   "source": [
    "head(train)"
   ]
  },
  {
   "cell_type": "code",
   "execution_count": 20,
   "id": "c05d65ce",
   "metadata": {},
   "outputs": [
    {
     "name": "stderr",
     "output_type": "stream",
     "text": [
      "randomForest 4.6-14\n",
      "Type rfNews() to see new features/changes/bug fixes.\n"
     ]
    }
   ],
   "source": [
    "library(\"randomForest\")"
   ]
  },
  {
   "cell_type": "code",
   "execution_count": 21,
   "id": "c2b69291",
   "metadata": {},
   "outputs": [
    {
     "name": "stderr",
     "output_type": "stream",
     "text": [
      "Warning message in randomForest.default(m, y, ...):\n",
      "\"The response has five or fewer unique values.  Are you sure you want to do regression?\""
     ]
    }
   ],
   "source": [
    "rf <- randomForest(y.class~., data=train, type = 'classification', importance=TRUE)"
   ]
  },
  {
   "cell_type": "code",
   "execution_count": 23,
   "id": "7e8b7164",
   "metadata": {},
   "outputs": [
    {
     "name": "stdout",
     "output_type": "stream",
     "text": [
      "\n",
      "Call:\n",
      " randomForest(formula = y.class ~ ., data = train, type = \"classification\",      importance = TRUE) \n",
      "               Type of random forest: regression\n",
      "                     Number of trees: 500\n",
      "No. of variables tried at each split: 6\n",
      "\n",
      "          Mean of squared residuals: 0.08095918\n",
      "                    % Var explained: 16.95\n"
     ]
    }
   ],
   "source": [
    "print(rf)"
   ]
  },
  {
   "cell_type": "code",
   "execution_count": 24,
   "id": "932d9075",
   "metadata": {},
   "outputs": [],
   "source": [
    "result.RF <- predict(rf, newdata=test, type=\"response\")"
   ]
  },
  {
   "cell_type": "code",
   "execution_count": 25,
   "id": "3f17bc9c",
   "metadata": {},
   "outputs": [
    {
     "data": {
      "image/png": "[encoded data removed]",
      "text/plain": [
       "Plot with title \"RF\""
      ]
     },
     "metadata": {},
     "output_type": "display_data"
    }
   ],
   "source": [
    "library(\"ROCR\")\n",
    "fit.RF.pred <-prediction( result.RF, test[,20])\n",
    "fit.RF.perf <- performance(fit.RF.pred,\"tpr\",\"fpr\")\n",
    "plot( fit.RF.perf,lwd=2,col=\"blue\", main=\"RF\")\n",
    "abline(a=0,b=1)"
   ]
  },
  {
   "cell_type": "code",
   "execution_count": 26,
   "id": "49c4312d",
   "metadata": {},
   "outputs": [
    {
     "data": {
      "text/html": [
       "0.776261911852283"
      ],
      "text/latex": [
       "0.776261911852283"
      ],
      "text/markdown": [
       "0.776261911852283"
      ],
      "text/plain": [
       "[1] 0.7762619"
      ]
     },
     "metadata": {},
     "output_type": "display_data"
    }
   ],
   "source": [
    "auc.RF.tmp <- performance(fit.RF.pred, \"auc\")\n",
    "auc.RF <- as.numeric(auc.RF.tmp@y.values)\n",
    "auc.RF"
   ]
  },
  {
   "cell_type": "markdown",
   "id": "860cb689",
   "metadata": {},
   "source": [
    "# SVM"
   ]
  },
  {
   "cell_type": "code",
   "execution_count": 27,
   "id": "4e67089f",
   "metadata": {},
   "outputs": [
    {
     "ename": "ERROR",
     "evalue": "Error in library(e1071): there is no package called 'e1071'\n",
     "output_type": "error",
     "traceback": [
      "Error in library(e1071): there is no package called 'e1071'\nTraceback:\n",
      "1. library(e1071)"
     ]
    }
   ],
   "source": [
    "library(e1071)\n",
    "library(kernlab)"
   ]
  },
  {
   "cell_type": "code",
   "execution_count": null,
   "id": "7c901f10",
   "metadata": {},
   "outputs": [],
   "source": [
    "svmfit <- svm(y.class~., data = train, kernel = \"polynomial\", cost = 10)"
   ]
  },
  {
   "cell_type": "code",
   "execution_count": null,
   "id": "08c2fff7",
   "metadata": {},
   "outputs": [],
   "source": [
    "result.SVM <- predict(svmfit, newdata=test, type=\"response\")"
   ]
  },
  {
   "cell_type": "code",
   "execution_count": null,
   "id": "ab48bae1",
   "metadata": {},
   "outputs": [],
   "source": [
    "library(\"ROCR\")\n",
    "fit.SVM.pred <-prediction( result.SVM, test[,20])\n",
    "fit.SVM.perf <- performance(fit.SVM.pred,\"tpr\",\"fpr\")\n",
    "plot( fit.SVM.perf,lwd=2,col=\"blue\", main=\"SVM\")\n",
    "abline(a=0,b=1)"
   ]
  },
  {
   "cell_type": "code",
   "execution_count": null,
   "id": "9b9b9dfa",
   "metadata": {},
   "outputs": [],
   "source": [
    "auc.SVM.tmp <- performance(fit.SVM.pred, \"auc\")\n",
    "auc.SVM <- as.numeric(auc.SVM.tmp@y.values)\n",
    "auc.SVM"
   ]
  },
  {
   "cell_type": "markdown",
   "id": "c76eca4f",
   "metadata": {},
   "source": [
    "# DL"
   ]
  },
  {
   "cell_type": "code",
   "execution_count": 5,
   "id": "b3195a9d",
   "metadata": {},
   "outputs": [],
   "source": [
    "col_list <- paste(c(colnames(train_test_all[1:20])), collapse=\"+\")\n",
    "col_list <- paste(c(\"~\", col_list), collapse=\"\")\n",
    "f <- formula(col_list)\n",
    "df <- train_test_all\n",
    "\n",
    "## Replace \"-\" by \"_\" \n",
    "levels(df$job)<-c('admin.','blue_collar','entrepreneur','housemaid','management','retired','self_employed','services','student','technician','unemployed','unknown')\n",
    "matrix = model.matrix(f, data=df)\n",
    "len_matrix = dim(matrix)\n",
    "col_list_matrix <- paste(colnames(matrix[,3:len_matrix[2]-1]), collapse=\"+\")\n",
    "col_list_matrix <- paste(c(\"y.class~\", col_list_matrix), collapse=\"\")\n",
    "f_matrix <- formula(col_list_matrix)"
   ]
  },
  {
   "cell_type": "code",
   "execution_count": 8,
   "id": "4adc8d0e",
   "metadata": {},
   "outputs": [
    {
     "data": {
      "text/html": [
       "<ol class=list-inline>\n",
       "\t<li>10000</li>\n",
       "\t<li>54</li>\n",
       "</ol>\n"
      ],
      "text/latex": [
       "\\begin{enumerate*}\n",
       "\\item 10000\n",
       "\\item 54\n",
       "\\end{enumerate*}\n"
      ],
      "text/markdown": [
       "1. 10000\n",
       "2. 54\n",
       "\n",
       "\n"
      ],
      "text/plain": [
       "[1] 10000    54"
      ]
     },
     "metadata": {},
     "output_type": "display_data"
    }
   ],
   "source": [
    "dim(matrix)"
   ]
  },
  {
   "cell_type": "code",
   "execution_count": 9,
   "id": "1ab3888f",
   "metadata": {},
   "outputs": [],
   "source": [
    "# normalization\n",
    "full_df <- as.data.frame(matrix[,3:len_matrix[2]-1])\n",
    "full_df_norm <- scale(full_df)\n",
    "full_df_norm = cbind(full_df_norm, matrix[,len_matrix[2]])\n",
    "colnames(full_df_norm)[len_matrix[2]-1] <- 'y.class'\n",
    "train_df <- full_df_norm[1:8000,]\n",
    "test_df <- full_df_norm[8001:10000,]"
   ]
  },
  {
   "cell_type": "code",
   "execution_count": 12,
   "id": "6e4415e7",
   "metadata": {},
   "outputs": [
    {
     "name": "stderr",
     "output_type": "stream",
     "text": [
      "also installing the dependency 'Deriv'\n",
      "\n"
     ]
    },
    {
     "name": "stdout",
     "output_type": "stream",
     "text": [
      "package 'Deriv' successfully unpacked and MD5 sums checked\n",
      "package 'neuralnet' successfully unpacked and MD5 sums checked\n",
      "\n",
      "The downloaded binary packages are in\n",
      "\tC:\\Users\\vstef\\AppData\\Local\\Temp\\RtmpKwBg6C\\downloaded_packages\n"
     ]
    }
   ],
   "source": [
    "install.packages('neuralnet')"
   ]
  },
  {
   "cell_type": "code",
   "execution_count": 13,
   "id": "03f7cd63",
   "metadata": {},
   "outputs": [
    {
     "name": "stderr",
     "output_type": "stream",
     "text": [
      "Loading required package: neuralnet\n",
      "Warning message:\n",
      "\"package 'neuralnet' was built under R version 3.6.3\""
     ]
    }
   ],
   "source": [
    "require(neuralnet)\n",
    "nn = neuralnet::neuralnet(f_matrix, data = train_df, hidden=c(32), act.fct = \"logistic\", linear.output = FALSE)\n",
    "plot(nn)"
   ]
  },
  {
   "cell_type": "code",
   "execution_count": 14,
   "id": "cb51afd2",
   "metadata": {},
   "outputs": [],
   "source": [
    "predict = neuralnet::compute(nn, test_df)\n",
    "results <- data.frame(real = test_df[,len_matrix[2]-1], prediction = predict$net.result)"
   ]
  },
  {
   "cell_type": "code",
   "execution_count": 15,
   "id": "ef4dac41",
   "metadata": {},
   "outputs": [
    {
     "name": "stderr",
     "output_type": "stream",
     "text": [
      "Warning message:\n",
      "\"package 'ROCR' was built under R version 3.6.3\"\n",
      "Attaching package: 'ROCR'\n",
      "\n",
      "The following object is masked from 'package:neuralnet':\n",
      "\n",
      "    prediction\n",
      "\n"
     ]
    },
    {
     "data": {
      "image/png": "[encoded data removed]",
      "text/plain": [
       "Plot with title \"NN\""
      ]
     },
     "metadata": {},
     "output_type": "display_data"
    }
   ],
   "source": [
    "library(\"ROCR\")\n",
    "fit.NN.pred <- ROCR::prediction( predict$net.result, test_df[,len_matrix[2]-1])\n",
    "fit.NN.perf <- performance(fit.NN.pred,\"tpr\",\"fpr\")\n",
    "plot( fit.NN.perf,lwd=2,col=\"blue\", main=\"NN\")\n",
    "abline(a=0,b=1)"
   ]
  },
  {
   "cell_type": "code",
   "execution_count": 16,
   "id": "eaeb0150",
   "metadata": {},
   "outputs": [
    {
     "data": {
      "text/html": [
       "0.713052351831318"
      ],
      "text/latex": [
       "0.713052351831318"
      ],
      "text/markdown": [
       "0.713052351831318"
      ],
      "text/plain": [
       "[1] 0.7130524"
      ]
     },
     "metadata": {},
     "output_type": "display_data"
    }
   ],
   "source": [
    "fit.NN.auc <- performance(fit.NN.pred, \"auc\")\n",
    "fit.NN.auc <- fit.NN.auc@y.values[[1]]\n",
    "fit.NN.auc"
   ]
  },
  {
   "cell_type": "markdown",
   "id": "35e55dd7",
   "metadata": {},
   "source": [
    "# Best Model"
   ]
  },
  {
   "cell_type": "code",
   "execution_count": 7,
   "id": "5e0c081b",
   "metadata": {},
   "outputs": [],
   "source": [
    "result.LR1 <- glm(y.class~., data=train, family=binomial)"
   ]
  },
  {
   "cell_type": "code",
   "execution_count": 8,
   "id": "01d92bde",
   "metadata": {},
   "outputs": [
    {
     "name": "stderr",
     "output_type": "stream",
     "text": [
      "Warning message in predict.lm(object, newdata, se.fit, scale = 1, type = if (type == :\n",
      "\"prediction from a rank-deficient fit may be misleading\""
     ]
    }
   ],
   "source": [
    "result.LR2<-predict(result.LR1,newdata=test, type=\"response\")"
   ]
  },
  {
   "cell_type": "code",
   "execution_count": 9,
   "id": "a4fea102",
   "metadata": {},
   "outputs": [
    {
     "name": "stderr",
     "output_type": "stream",
     "text": [
      "Warning message:\n",
      "\"package 'ROCR' was built under R version 3.6.3\""
     ]
    }
   ],
   "source": [
    "library(\"ROCR\")\n",
    "fit.LR.pred <-prediction( result.LR2, test[,20])\n",
    "fit.LR.perf <- performance(fit.LR.pred,\"f\")"
   ]
  },
  {
   "cell_type": "code",
   "execution_count": 10,
   "id": "bb5652b5",
   "metadata": {},
   "outputs": [
    {
     "name": "stdout",
     "output_type": "stream",
     "text": [
      "Formal class 'performance' [package \"ROCR\"] with 6 slots\n",
      "  ..@ x.name      : chr \"Cutoff\"\n",
      "  ..@ y.name      : chr \"Precision-Recall F measure\"\n",
      "  ..@ alpha.name  : chr \"none\"\n",
      "  ..@ x.values    :List of 1\n",
      "  .. ..$ : Named num [1:2491] Inf 0.949 0.901 0.873 0.871 ...\n",
      "  .. .. ..- attr(*, \"names\")= chr [1:2491] \"\" \"8638\" \"7810\" \"8566\" ...\n",
      "  ..@ y.values    :List of 1\n",
      "  .. ..$ : num [1:2491] NaN 0.00683 0.01361 0.02034 0.02703 ...\n",
      "  ..@ alpha.values: list()\n"
     ]
    }
   ],
   "source": [
    "str(fit.LR.perf)"
   ]
  },
  {
   "cell_type": "code",
   "execution_count": 11,
   "id": "380f2bac",
   "metadata": {},
   "outputs": [],
   "source": [
    "cutoffs <- data.frame(cut=fit.LR.perf@x.values[[1]], f1=fit.LR.perf@y.values[[1]])"
   ]
  },
  {
   "cell_type": "code",
   "execution_count": 13,
   "id": "efb5bb09",
   "metadata": {},
   "outputs": [
    {
     "data": {
      "text/html": [
       "<table>\n",
       "<thead><tr><th></th><th scope=col>cut</th><th scope=col>f1</th></tr></thead>\n",
       "<tbody>\n",
       "\t<tr><th scope=row>9498</th><td>0.2062728</td><td>0.507837 </td></tr>\n",
       "</tbody>\n",
       "</table>\n"
      ],
      "text/latex": [
       "\\begin{tabular}{r|ll}\n",
       "  & cut & f1\\\\\n",
       "\\hline\n",
       "\t9498 & 0.2062728 & 0.507837 \\\\\n",
       "\\end{tabular}\n"
      ],
      "text/markdown": [
       "\n",
       "| <!--/--> | cut | f1 |\n",
       "|---|---|---|\n",
       "| 9498 | 0.2062728 | 0.507837  |\n",
       "\n"
      ],
      "text/plain": [
       "     cut       f1      \n",
       "9498 0.2062728 0.507837"
      ]
     },
     "metadata": {},
     "output_type": "display_data"
    }
   ],
   "source": [
    "cutoffs[which.max(cutoffs$f1), ]"
   ]
  },
  {
   "cell_type": "code",
   "execution_count": 14,
   "id": "0375ede6",
   "metadata": {},
   "outputs": [],
   "source": [
    "cut = cutoffs[which.max(cutoffs$f1), 1]"
   ]
  },
  {
   "cell_type": "code",
   "execution_count": 15,
   "id": "ccd22e68",
   "metadata": {},
   "outputs": [
    {
     "data": {
      "text/html": [
       "0.206272836493452"
      ],
      "text/latex": [
       "0.206272836493452"
      ],
      "text/markdown": [
       "0.206272836493452"
      ],
      "text/plain": [
       "[1] 0.2062728"
      ]
     },
     "metadata": {},
     "output_type": "display_data"
    }
   ],
   "source": [
    "cut"
   ]
  },
  {
   "cell_type": "code",
   "execution_count": 16,
   "id": "1ba3551f",
   "metadata": {},
   "outputs": [
    {
     "name": "stdout",
     "output_type": "stream",
     "text": [
      "Formal class 'prediction' [package \"ROCR\"] with 11 slots\n",
      "  ..@ predictions:List of 1\n",
      "  .. ..$ : Named num [1:2500] 0.0397 0.033 0.0253 0.0679 0.0343 ...\n",
      "  .. .. ..- attr(*, \"names\")= chr [1:2500] \"7501\" \"7502\" \"7503\" \"7504\" ...\n",
      "  ..@ labels     :List of 1\n",
      "  .. ..$ : Ord.factor w/ 2 levels \"0\"<\"1\": 1 1 1 1 1 2 1 1 2 1 ...\n",
      "  ..@ cutoffs    :List of 1\n",
      "  .. ..$ : Named num [1:2491] Inf 0.949 0.901 0.873 0.871 ...\n",
      "  .. .. ..- attr(*, \"names\")= chr [1:2491] \"\" \"8638\" \"7810\" \"8566\" ...\n",
      "  ..@ fp         :List of 1\n",
      "  .. ..$ : num [1:2491] 0 0 0 0 0 0 0 0 0 0 ...\n",
      "  ..@ tp         :List of 1\n",
      "  .. ..$ : num [1:2491] 0 1 2 3 4 5 6 7 8 9 ...\n",
      "  ..@ tn         :List of 1\n",
      "  .. ..$ : num [1:2491] 2208 2208 2208 2208 2208 ...\n",
      "  ..@ fn         :List of 1\n",
      "  .. ..$ : num [1:2491] 292 291 290 289 288 287 286 285 284 283 ...\n",
      "  ..@ n.pos      :List of 1\n",
      "  .. ..$ : int 292\n",
      "  ..@ n.neg      :List of 1\n",
      "  .. ..$ : int 2208\n",
      "  ..@ n.pos.pred :List of 1\n",
      "  .. ..$ : num [1:2491] 0 1 2 3 4 5 6 7 8 9 ...\n",
      "  ..@ n.neg.pred :List of 1\n",
      "  .. ..$ : num [1:2491] 2500 2499 2498 2497 2496 ...\n"
     ]
    }
   ],
   "source": [
    "str(fit.LR.pred)"
   ]
  },
  {
   "cell_type": "code",
   "execution_count": 17,
   "id": "6361f7ca",
   "metadata": {},
   "outputs": [],
   "source": [
    "n <- length(test[,20])\n",
    "y.pred <- rep(0,n)"
   ]
  },
  {
   "cell_type": "code",
   "execution_count": 18,
   "id": "b3121d0a",
   "metadata": {},
   "outputs": [
    {
     "data": {
      "text/html": [
       "2500"
      ],
      "text/latex": [
       "2500"
      ],
      "text/markdown": [
       "2500"
      ],
      "text/plain": [
       "[1] 2500"
      ]
     },
     "metadata": {},
     "output_type": "display_data"
    }
   ],
   "source": [
    "n"
   ]
  },
  {
   "cell_type": "code",
   "execution_count": 19,
   "id": "aab1e14c",
   "metadata": {},
   "outputs": [],
   "source": [
    "for (i in 1:n){\n",
    "    if (result.LR2[i] >= cut){\n",
    "        y.pred[i] <- 1\n",
    "    }\n",
    "}"
   ]
  },
  {
   "cell_type": "code",
   "execution_count": 20,
   "id": "f2ff0d59",
   "metadata": {},
   "outputs": [
    {
     "data": {
      "text/html": [
       "2500"
      ],
      "text/latex": [
       "2500"
      ],
      "text/markdown": [
       "2500"
      ],
      "text/plain": [
       "[1] 2500"
      ]
     },
     "metadata": {},
     "output_type": "display_data"
    }
   ],
   "source": [
    "length(y.pred)"
   ]
  },
  {
   "cell_type": "code",
   "execution_count": 21,
   "id": "dfeb3e18",
   "metadata": {},
   "outputs": [],
   "source": [
    "TP = 0\n",
    "FP = 0\n",
    "TN = 0\n",
    "FN = 0\n",
    "\n",
    "for (i in 1:n){\n",
    "    if(test[i,20]==1 & y.pred[i] == 1){TP = TP + 1}\n",
    "    else if(test[i,20]==1 & y.pred[i] == 0){FN = FN + 1}\n",
    "    else if (test[i,20]==0 & y.pred[i] == 0){TN = TN + 1}\n",
    "    else if (test[i,20]==0 & y.pred[i] == 1){FP = FP + 1}\n",
    "}"
   ]
  },
  {
   "cell_type": "code",
   "execution_count": 22,
   "id": "11ce3d53",
   "metadata": {},
   "outputs": [
    {
     "data": {
      "text/html": [
       "162"
      ],
      "text/latex": [
       "162"
      ],
      "text/markdown": [
       "162"
      ],
      "text/plain": [
       "[1] 162"
      ]
     },
     "metadata": {},
     "output_type": "display_data"
    }
   ],
   "source": [
    "TP"
   ]
  },
  {
   "cell_type": "code",
   "execution_count": 23,
   "id": "5b4e36de",
   "metadata": {},
   "outputs": [
    {
     "data": {
      "text/html": [
       "184"
      ],
      "text/latex": [
       "184"
      ],
      "text/markdown": [
       "184"
      ],
      "text/plain": [
       "[1] 184"
      ]
     },
     "metadata": {},
     "output_type": "display_data"
    }
   ],
   "source": [
    "FP"
   ]
  },
  {
   "cell_type": "code",
   "execution_count": 24,
   "id": "6f89557b",
   "metadata": {},
   "outputs": [
    {
     "data": {
      "text/html": [
       "2024"
      ],
      "text/latex": [
       "2024"
      ],
      "text/markdown": [
       "2024"
      ],
      "text/plain": [
       "[1] 2024"
      ]
     },
     "metadata": {},
     "output_type": "display_data"
    }
   ],
   "source": [
    "TN"
   ]
  },
  {
   "cell_type": "code",
   "execution_count": 25,
   "id": "6fc1c5f7",
   "metadata": {},
   "outputs": [
    {
     "data": {
      "text/html": [
       "130"
      ],
      "text/latex": [
       "130"
      ],
      "text/markdown": [
       "130"
      ],
      "text/plain": [
       "[1] 130"
      ]
     },
     "metadata": {},
     "output_type": "display_data"
    }
   ],
   "source": [
    "FN"
   ]
  },
  {
   "cell_type": "markdown",
   "id": "915c61b6",
   "metadata": {},
   "source": [
    "# Submission"
   ]
  },
  {
   "cell_type": "code",
   "execution_count": 7,
   "id": "3a96ef7c",
   "metadata": {},
   "outputs": [],
   "source": [
    "result.LR <- glm(y.class~., data=train, family=binomial)"
   ]
  },
  {
   "cell_type": "code",
   "execution_count": 8,
   "id": "156f0481",
   "metadata": {},
   "outputs": [
    {
     "data": {
      "text/plain": [
       "\n",
       "Call:\n",
       "glm(formula = y.class ~ ., family = binomial, data = train)\n",
       "\n",
       "Deviance Residuals: \n",
       "    Min       1Q   Median       3Q      Max  \n",
       "-2.0651  -0.3934  -0.3185  -0.2565   2.8422  \n",
       "\n",
       "Coefficients: (1 not defined because of singularities)\n",
       "                               Estimate Std. Error z value Pr(>|z|)    \n",
       "(Intercept)                  -1.528e+02  7.968e+01  -1.917 0.055233 .  \n",
       "age                          -6.505e-03  4.932e-03  -1.319 0.187193    \n",
       "jobblue-collar                5.451e-02  1.651e-01   0.330 0.741259    \n",
       "jobentrepreneur               2.549e-01  2.384e-01   1.069 0.284883    \n",
       "jobhousemaid                  3.099e-01  2.753e-01   1.126 0.260274    \n",
       "jobmanagement                 1.883e-01  1.779e-01   1.058 0.289858    \n",
       "jobretired                    5.812e-01  2.189e-01   2.655 0.007941 ** \n",
       "jobself-employed             -3.015e-01  2.787e-01  -1.082 0.279333    \n",
       "jobservices                  -1.910e-02  1.774e-01  -0.108 0.914231    \n",
       "jobstudent                    6.572e-02  2.519e-01   0.261 0.794184    \n",
       "jobtechnician                 2.343e-01  1.478e-01   1.586 0.112804    \n",
       "jobunemployed                 4.820e-02  2.488e-01   0.194 0.846383    \n",
       "jobunknown                    7.819e-02  4.351e-01   0.180 0.857397    \n",
       "maritalmarried                1.889e-01  1.456e-01   1.298 0.194385    \n",
       "maritalsingle                 9.063e-02  1.659e-01   0.546 0.584938    \n",
       "maritalunknown                1.022e+00  7.905e-01   1.293 0.195992    \n",
       "educationbasic.6y             1.390e-01  2.396e-01   0.580 0.561666    \n",
       "educationbasic.9y            -1.087e-01  1.996e-01  -0.545 0.585914    \n",
       "educationhigh.school          1.525e-01  1.906e-01   0.800 0.423672    \n",
       "educationilliterate           1.129e+00  9.013e-01   1.252 0.210473    \n",
       "educationprofessional.course  1.169e-01  2.095e-01   0.558 0.576864    \n",
       "educationuniversity.degree    1.958e-01  1.910e-01   1.025 0.305256    \n",
       "educationunknown              2.144e-01  2.465e-01   0.870 0.384400    \n",
       "defaultunknown               -1.173e-01  1.339e-01  -0.876 0.381233    \n",
       "defaultyes                   -8.687e+00  1.970e+02  -0.044 0.964823    \n",
       "housingunknown                3.065e-01  2.581e-01   1.187 0.235070    \n",
       "housingyes                   -1.331e-01  8.560e-02  -1.554 0.120104    \n",
       "loanunknown                          NA         NA      NA       NA    \n",
       "loanyes                      -9.707e-02  1.198e-01  -0.810 0.417879    \n",
       "contacttelephone             -5.867e-01  1.610e-01  -3.644 0.000269 ***\n",
       "monthaug                     -4.684e-02  2.521e-01  -0.186 0.852566    \n",
       "monthdec                     -6.459e-02  4.416e-01  -0.146 0.883722    \n",
       "monthjul                     -6.263e-02  1.991e-01  -0.315 0.753080    \n",
       "monthjun                     -5.448e-01  2.664e-01  -2.045 0.040831 *  \n",
       "monthmar                      1.107e+00  3.038e-01   3.642 0.000270 ***\n",
       "monthmay                     -7.721e-01  1.728e-01  -4.469 7.84e-06 ***\n",
       "monthnov                     -5.144e-01  2.468e-01  -2.085 0.037112 *  \n",
       "monthoct                     -2.980e-01  3.221e-01  -0.925 0.354793    \n",
       "monthsep                     -3.669e-01  3.693e-01  -0.993 0.320477    \n",
       "day_of_weekmon               -2.617e-01  1.372e-01  -1.907 0.056508 .  \n",
       "day_of_weekthu                1.804e-01  1.290e-01   1.398 0.162139    \n",
       "day_of_weektue                7.061e-02  1.354e-01   0.521 0.602160    \n",
       "day_of_weekwed                1.307e-01  1.343e-01   0.973 0.330327    \n",
       "campaign                     -2.097e-02  2.126e-02  -0.987 0.323806    \n",
       "pdays                        -8.797e-04  4.283e-04  -2.054 0.040003 *  \n",
       "previous                      6.235e-02  1.398e-01   0.446 0.655737    \n",
       "poutcomenonexistent           6.775e-01  2.155e-01   3.143 0.001670 ** \n",
       "poutcomesuccess               1.256e+00  4.255e-01   2.951 0.003166 ** \n",
       "emp.var.rate                 -1.079e+00  2.948e-01  -3.661 0.000251 ***\n",
       "cons.price.idx                1.441e+00  5.255e-01   2.742 0.006103 ** \n",
       "cons.conf.idx                 4.066e-02  1.682e-02   2.418 0.015624 *  \n",
       "euribor3m                     8.892e-02  2.711e-01   0.328 0.742950    \n",
       "nr.employed                   3.415e-03  6.471e-03   0.528 0.597720    \n",
       "---\n",
       "Signif. codes:  0 '***' 0.001 '**' 0.01 '*' 0.05 '.' 0.1 ' ' 1\n",
       "\n",
       "(Dispersion parameter for binomial family taken to be 1)\n",
       "\n",
       "    Null deviance: 5181.0  on 7499  degrees of freedom\n",
       "Residual deviance: 4091.5  on 7448  degrees of freedom\n",
       "AIC: 4195.5\n",
       "\n",
       "Number of Fisher Scoring iterations: 10\n"
      ]
     },
     "metadata": {},
     "output_type": "display_data"
    }
   ],
   "source": [
    "summary(result.LR)"
   ]
  },
  {
   "cell_type": "code",
   "execution_count": 9,
   "id": "7641d59e",
   "metadata": {},
   "outputs": [],
   "source": [
    "submit <- read.csv(\"submit.csv\")"
   ]
  },
  {
   "cell_type": "code",
   "execution_count": 10,
   "id": "8926d912",
   "metadata": {},
   "outputs": [
    {
     "data": {
      "text/html": [
       "<table>\n",
       "<thead><tr><th scope=col>age</th><th scope=col>job</th><th scope=col>marital</th><th scope=col>education</th><th scope=col>default</th><th scope=col>housing</th><th scope=col>loan</th><th scope=col>contact</th><th scope=col>month</th><th scope=col>day_of_week</th><th scope=col>...</th><th scope=col>pdays</th><th scope=col>previous</th><th scope=col>poutcome</th><th scope=col>emp.var.rate</th><th scope=col>cons.price.idx</th><th scope=col>cons.conf.idx</th><th scope=col>euribor3m</th><th scope=col>nr.employed</th><th scope=col>y..yes.or.no.</th><th scope=col>probability.of.yes..or.score.</th></tr></thead>\n",
       "<tbody>\n",
       "\t<tr><td>44           </td><td>services     </td><td>married      </td><td>high.school  </td><td>no           </td><td>yes          </td><td>no           </td><td>telephone    </td><td>nov          </td><td>wed          </td><td>...          </td><td>999          </td><td>0            </td><td>nonexistent  </td><td>-0.1         </td><td>93.200       </td><td>-42.0        </td><td>4.120        </td><td>5195.8       </td><td>NA           </td><td>NA           </td></tr>\n",
       "\t<tr><td>38           </td><td>technician   </td><td>single       </td><td>high.school  </td><td>no           </td><td>yes          </td><td>no           </td><td>telephone    </td><td>may          </td><td>mon          </td><td>...          </td><td>999          </td><td>0            </td><td>nonexistent  </td><td> 1.1         </td><td>93.994       </td><td>-36.4        </td><td>4.857        </td><td>5191.0       </td><td>NA           </td><td>NA           </td></tr>\n",
       "\t<tr><td>23           </td><td>student      </td><td>single       </td><td>high.school  </td><td>no           </td><td>no           </td><td>yes          </td><td>cellular     </td><td>sep          </td><td>thu          </td><td>...          </td><td>  3          </td><td>2            </td><td>success      </td><td>-1.1         </td><td>94.199       </td><td>-37.5        </td><td>0.878        </td><td>4963.6       </td><td>NA           </td><td>NA           </td></tr>\n",
       "\t<tr><td>57           </td><td>self-employed</td><td>married      </td><td>basic.4y     </td><td>no           </td><td>yes          </td><td>no           </td><td>cellular     </td><td>apr          </td><td>mon          </td><td>...          </td><td>999          </td><td>0            </td><td>nonexistent  </td><td>-1.8         </td><td>93.075       </td><td>-47.1        </td><td>1.405        </td><td>5099.1       </td><td>NA           </td><td>NA           </td></tr>\n",
       "\t<tr><td>66           </td><td>retired      </td><td>married      </td><td>basic.4y     </td><td>no           </td><td>yes          </td><td>no           </td><td>cellular     </td><td>apr          </td><td>wed          </td><td>...          </td><td>999          </td><td>0            </td><td>nonexistent  </td><td>-1.8         </td><td>93.075       </td><td>-47.1        </td><td>1.415        </td><td>5099.1       </td><td>NA           </td><td>NA           </td></tr>\n",
       "\t<tr><td>42           </td><td>management   </td><td>married      </td><td>basic.6y     </td><td>unknown      </td><td>yes          </td><td>no           </td><td>telephone    </td><td>may          </td><td>mon          </td><td>...          </td><td>999          </td><td>0            </td><td>nonexistent  </td><td> 1.1         </td><td>93.994       </td><td>-36.4        </td><td>4.858        </td><td>5191.0       </td><td>NA           </td><td>NA           </td></tr>\n",
       "</tbody>\n",
       "</table>\n"
      ],
      "text/latex": [
       "\\begin{tabular}{r|lllllllllllllllllllll}\n",
       " age & job & marital & education & default & housing & loan & contact & month & day\\_of\\_week & ... & pdays & previous & poutcome & emp.var.rate & cons.price.idx & cons.conf.idx & euribor3m & nr.employed & y..yes.or.no. & probability.of.yes..or.score.\\\\\n",
       "\\hline\n",
       "\t 44            & services      & married       & high.school   & no            & yes           & no            & telephone     & nov           & wed           & ...           & 999           & 0             & nonexistent   & -0.1          & 93.200        & -42.0         & 4.120         & 5195.8        & NA            & NA           \\\\\n",
       "\t 38            & technician    & single        & high.school   & no            & yes           & no            & telephone     & may           & mon           & ...           & 999           & 0             & nonexistent   &  1.1          & 93.994        & -36.4         & 4.857         & 5191.0        & NA            & NA           \\\\\n",
       "\t 23            & student       & single        & high.school   & no            & no            & yes           & cellular      & sep           & thu           & ...           &   3           & 2             & success       & -1.1          & 94.199        & -37.5         & 0.878         & 4963.6        & NA            & NA           \\\\\n",
       "\t 57            & self-employed & married       & basic.4y      & no            & yes           & no            & cellular      & apr           & mon           & ...           & 999           & 0             & nonexistent   & -1.8          & 93.075        & -47.1         & 1.405         & 5099.1        & NA            & NA           \\\\\n",
       "\t 66            & retired       & married       & basic.4y      & no            & yes           & no            & cellular      & apr           & wed           & ...           & 999           & 0             & nonexistent   & -1.8          & 93.075        & -47.1         & 1.415         & 5099.1        & NA            & NA           \\\\\n",
       "\t 42            & management    & married       & basic.6y      & unknown       & yes           & no            & telephone     & may           & mon           & ...           & 999           & 0             & nonexistent   &  1.1          & 93.994        & -36.4         & 4.858         & 5191.0        & NA            & NA           \\\\\n",
       "\\end{tabular}\n"
      ],
      "text/markdown": [
       "\n",
       "| age | job | marital | education | default | housing | loan | contact | month | day_of_week | ... | pdays | previous | poutcome | emp.var.rate | cons.price.idx | cons.conf.idx | euribor3m | nr.employed | y..yes.or.no. | probability.of.yes..or.score. |\n",
       "|---|---|---|---|---|---|---|---|---|---|---|---|---|---|---|---|---|---|---|---|---|\n",
       "| 44            | services      | married       | high.school   | no            | yes           | no            | telephone     | nov           | wed           | ...           | 999           | 0             | nonexistent   | -0.1          | 93.200        | -42.0         | 4.120         | 5195.8        | NA            | NA            |\n",
       "| 38            | technician    | single        | high.school   | no            | yes           | no            | telephone     | may           | mon           | ...           | 999           | 0             | nonexistent   |  1.1          | 93.994        | -36.4         | 4.857         | 5191.0        | NA            | NA            |\n",
       "| 23            | student       | single        | high.school   | no            | no            | yes           | cellular      | sep           | thu           | ...           |   3           | 2             | success       | -1.1          | 94.199        | -37.5         | 0.878         | 4963.6        | NA            | NA            |\n",
       "| 57            | self-employed | married       | basic.4y      | no            | yes           | no            | cellular      | apr           | mon           | ...           | 999           | 0             | nonexistent   | -1.8          | 93.075        | -47.1         | 1.405         | 5099.1        | NA            | NA            |\n",
       "| 66            | retired       | married       | basic.4y      | no            | yes           | no            | cellular      | apr           | wed           | ...           | 999           | 0             | nonexistent   | -1.8          | 93.075        | -47.1         | 1.415         | 5099.1        | NA            | NA            |\n",
       "| 42            | management    | married       | basic.6y      | unknown       | yes           | no            | telephone     | may           | mon           | ...           | 999           | 0             | nonexistent   |  1.1          | 93.994        | -36.4         | 4.858         | 5191.0        | NA            | NA            |\n",
       "\n"
      ],
      "text/plain": [
       "  age job           marital education   default housing loan contact   month\n",
       "1 44  services      married high.school no      yes     no   telephone nov  \n",
       "2 38  technician    single  high.school no      yes     no   telephone may  \n",
       "3 23  student       single  high.school no      no      yes  cellular  sep  \n",
       "4 57  self-employed married basic.4y    no      yes     no   cellular  apr  \n",
       "5 66  retired       married basic.4y    no      yes     no   cellular  apr  \n",
       "6 42  management    married basic.6y    unknown yes     no   telephone may  \n",
       "  day_of_week ... pdays previous poutcome    emp.var.rate cons.price.idx\n",
       "1 wed         ... 999   0        nonexistent -0.1         93.200        \n",
       "2 mon         ... 999   0        nonexistent  1.1         93.994        \n",
       "3 thu         ...   3   2        success     -1.1         94.199        \n",
       "4 mon         ... 999   0        nonexistent -1.8         93.075        \n",
       "5 wed         ... 999   0        nonexistent -1.8         93.075        \n",
       "6 mon         ... 999   0        nonexistent  1.1         93.994        \n",
       "  cons.conf.idx euribor3m nr.employed y..yes.or.no.\n",
       "1 -42.0         4.120     5195.8      NA           \n",
       "2 -36.4         4.857     5191.0      NA           \n",
       "3 -37.5         0.878     4963.6      NA           \n",
       "4 -47.1         1.405     5099.1      NA           \n",
       "5 -47.1         1.415     5099.1      NA           \n",
       "6 -36.4         4.858     5191.0      NA           \n",
       "  probability.of.yes..or.score.\n",
       "1 NA                           \n",
       "2 NA                           \n",
       "3 NA                           \n",
       "4 NA                           \n",
       "5 NA                           \n",
       "6 NA                           "
      ]
     },
     "metadata": {},
     "output_type": "display_data"
    }
   ],
   "source": [
    "head(submit)"
   ]
  },
  {
   "cell_type": "code",
   "execution_count": 11,
   "id": "a7a59e81",
   "metadata": {},
   "outputs": [
    {
     "data": {
      "text/html": [
       "21"
      ],
      "text/latex": [
       "21"
      ],
      "text/markdown": [
       "21"
      ],
      "text/plain": [
       "[1] 21"
      ]
     },
     "metadata": {},
     "output_type": "display_data"
    }
   ],
   "source": [
    "length(submit)"
   ]
  },
  {
   "cell_type": "code",
   "execution_count": 12,
   "id": "3a1c1a85",
   "metadata": {},
   "outputs": [
    {
     "name": "stderr",
     "output_type": "stream",
     "text": [
      "Warning message in predict.lm(object, newdata, se.fit, scale = 1, type = if (type == :\n",
      "\"prediction from a rank-deficient fit may be misleading\""
     ]
    }
   ],
   "source": [
    "probability <-predict(result.LR,newdata=submit[,1:19], type=\"response\")"
   ]
  },
  {
   "cell_type": "code",
   "execution_count": 13,
   "id": "a20efa8d",
   "metadata": {},
   "outputs": [
    {
     "data": {
      "text/html": [
       "<dl class=dl-horizontal>\n",
       "\t<dt>1</dt>\n",
       "\t\t<dd>0.0375510137528868</dd>\n",
       "\t<dt>2</dt>\n",
       "\t\t<dd>0.0251382428526002</dd>\n",
       "\t<dt>3</dt>\n",
       "\t\t<dd>0.710800946931832</dd>\n",
       "\t<dt>4</dt>\n",
       "\t\t<dd>0.101689875856573</dd>\n",
       "\t<dt>5</dt>\n",
       "\t\t<dd>0.276663258629706</dd>\n",
       "\t<dt>6</dt>\n",
       "\t\t<dd>0.0236523036182402</dd>\n",
       "</dl>\n"
      ],
      "text/latex": [
       "\\begin{description*}\n",
       "\\item[1] 0.0375510137528868\n",
       "\\item[2] 0.0251382428526002\n",
       "\\item[3] 0.710800946931832\n",
       "\\item[4] 0.101689875856573\n",
       "\\item[5] 0.276663258629706\n",
       "\\item[6] 0.0236523036182402\n",
       "\\end{description*}\n"
      ],
      "text/markdown": [
       "1\n",
       ":   0.03755101375288682\n",
       ":   0.02513824285260023\n",
       ":   0.7108009469318324\n",
       ":   0.1016898758565735\n",
       ":   0.2766632586297066\n",
       ":   0.0236523036182402\n",
       "\n"
      ],
      "text/plain": [
       "         1          2          3          4          5          6 \n",
       "0.03755101 0.02513824 0.71080095 0.10168988 0.27666326 0.02365230 "
      ]
     },
     "metadata": {},
     "output_type": "display_data"
    }
   ],
   "source": [
    "head(probability)"
   ]
  },
  {
   "cell_type": "code",
   "execution_count": 16,
   "id": "a45442fa",
   "metadata": {},
   "outputs": [],
   "source": [
    "n = length(submit[,19])\n",
    "cut = 0.206272836493452"
   ]
  },
  {
   "cell_type": "code",
   "execution_count": 18,
   "id": "d4c3d91b",
   "metadata": {},
   "outputs": [],
   "source": [
    "class = rep(0,n)\n",
    "for (i in 1:n){\n",
    "    if (probability[i]>=cut){\n",
    "        class[i] <- 1\n",
    "    }\n",
    "}"
   ]
  },
  {
   "cell_type": "code",
   "execution_count": 19,
   "id": "dc03c30e",
   "metadata": {},
   "outputs": [
    {
     "data": {
      "text/html": [
       "1000"
      ],
      "text/latex": [
       "1000"
      ],
      "text/markdown": [
       "1000"
      ],
      "text/plain": [
       "[1] 1000"
      ]
     },
     "metadata": {},
     "output_type": "display_data"
    }
   ],
   "source": [
    "length(probability)"
   ]
  },
  {
   "cell_type": "code",
   "execution_count": 20,
   "id": "09eb3ec7",
   "metadata": {},
   "outputs": [
    {
     "data": {
      "text/html": [
       "1000"
      ],
      "text/latex": [
       "1000"
      ],
      "text/markdown": [
       "1000"
      ],
      "text/plain": [
       "[1] 1000"
      ]
     },
     "metadata": {},
     "output_type": "display_data"
    }
   ],
   "source": [
    "length(class)"
   ]
  },
  {
   "cell_type": "code",
   "execution_count": 22,
   "id": "e16bf19a",
   "metadata": {},
   "outputs": [
    {
     "data": {
      "text/html": [
       "<table>\n",
       "<thead><tr><th scope=col>probability</th><th scope=col>class</th></tr></thead>\n",
       "<tbody>\n",
       "\t<tr><td>0.03755101</td><td>0         </td></tr>\n",
       "\t<tr><td>0.02513824</td><td>0         </td></tr>\n",
       "\t<tr><td>0.71080095</td><td>1         </td></tr>\n",
       "\t<tr><td>0.10168988</td><td>0         </td></tr>\n",
       "\t<tr><td>0.27666326</td><td>1         </td></tr>\n",
       "\t<tr><td>0.02365230</td><td>0         </td></tr>\n",
       "</tbody>\n",
       "</table>\n"
      ],
      "text/latex": [
       "\\begin{tabular}{r|ll}\n",
       " probability & class\\\\\n",
       "\\hline\n",
       "\t 0.03755101 & 0         \\\\\n",
       "\t 0.02513824 & 0         \\\\\n",
       "\t 0.71080095 & 1         \\\\\n",
       "\t 0.10168988 & 0         \\\\\n",
       "\t 0.27666326 & 1         \\\\\n",
       "\t 0.02365230 & 0         \\\\\n",
       "\\end{tabular}\n"
      ],
      "text/markdown": [
       "\n",
       "| probability | class |\n",
       "|---|---|\n",
       "| 0.03755101 | 0          |\n",
       "| 0.02513824 | 0          |\n",
       "| 0.71080095 | 1          |\n",
       "| 0.10168988 | 0          |\n",
       "| 0.27666326 | 1          |\n",
       "| 0.02365230 | 0          |\n",
       "\n"
      ],
      "text/plain": [
       "  probability class\n",
       "1 0.03755101  0    \n",
       "2 0.02513824  0    \n",
       "3 0.71080095  1    \n",
       "4 0.10168988  0    \n",
       "5 0.27666326  1    \n",
       "6 0.02365230  0    "
      ]
     },
     "metadata": {},
     "output_type": "display_data"
    }
   ],
   "source": [
    "results <- data.frame(probability, class)\n",
    "head(results)"
   ]
  },
  {
   "cell_type": "code",
   "execution_count": 23,
   "id": "95422674",
   "metadata": {},
   "outputs": [],
   "source": [
    "write.csv(results, \"results.csv\")"
   ]
  }
 ],
 "metadata": {
  "kernelspec": {
   "display_name": "R",
   "language": "R",
   "name": "ir"
  },
  "language_info": {
   "codemirror_mode": "r",
   "file_extension": ".r",
   "mimetype": "text/x-r-source",
   "name": "R",
   "pygments_lexer": "r",
   "version": "3.6.1"
  }
 },
 "nbformat": 4,
 "nbformat_minor": 5
}
